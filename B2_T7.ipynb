{
 "cells": [
  {
   "cell_type": "markdown",
   "id": "2eb163d3",
   "metadata": {},
   "source": [
    "#### Problem statement: Whether the truck will reach on time or not considering various factors"
   ]
  },
  {
   "cell_type": "code",
   "execution_count": 1,
   "id": "93276488",
   "metadata": {},
   "outputs": [],
   "source": [
    "import warnings\n",
    "warnings.simplefilter(action='ignore', category=FutureWarning)"
   ]
  },
  {
   "cell_type": "code",
   "execution_count": 2,
   "id": "78bd3484",
   "metadata": {},
   "outputs": [],
   "source": [
    "import pandas as pd\n",
    "import numpy as np\n",
    "trip = pd.read_excel('TDS.xlsx')"
   ]
  },
  {
   "cell_type": "code",
   "execution_count": 3,
   "id": "dba8541e",
   "metadata": {},
   "outputs": [
    {
     "data": {
      "text/html": [
       "<div>\n",
       "<style scoped>\n",
       "    .dataframe tbody tr th:only-of-type {\n",
       "        vertical-align: middle;\n",
       "    }\n",
       "\n",
       "    .dataframe tbody tr th {\n",
       "        vertical-align: top;\n",
       "    }\n",
       "\n",
       "    .dataframe thead th {\n",
       "        text-align: right;\n",
       "    }\n",
       "</style>\n",
       "<table border=\"1\" class=\"dataframe\">\n",
       "  <thead>\n",
       "    <tr style=\"text-align: right;\">\n",
       "      <th></th>\n",
       "      <th>GpsProvider</th>\n",
       "      <th>BookingID</th>\n",
       "      <th>Market/Regular</th>\n",
       "      <th>BookingID_Date</th>\n",
       "      <th>vehicle_no</th>\n",
       "      <th>Origin_Location</th>\n",
       "      <th>Destination_Location</th>\n",
       "      <th>Org_lat_lon</th>\n",
       "      <th>Des_lat_lon</th>\n",
       "      <th>Data_Ping_time</th>\n",
       "      <th>...</th>\n",
       "      <th>trip_end_date</th>\n",
       "      <th>TRANSPORTATION_DISTANCE_IN_KM</th>\n",
       "      <th>vehicleType</th>\n",
       "      <th>Driver_Name</th>\n",
       "      <th>Driver_MobileNo</th>\n",
       "      <th>customerID</th>\n",
       "      <th>customerNameCode</th>\n",
       "      <th>supplierID</th>\n",
       "      <th>supplierNameCode</th>\n",
       "      <th>Material Shipped</th>\n",
       "    </tr>\n",
       "  </thead>\n",
       "  <tbody>\n",
       "    <tr>\n",
       "      <th>0</th>\n",
       "      <td>CONSENT TRACK</td>\n",
       "      <td>MVCV0000927/082021</td>\n",
       "      <td>Market</td>\n",
       "      <td>2020-08-17 14:59:01.000</td>\n",
       "      <td>KA590408</td>\n",
       "      <td>TVSLSL-PUZHAL-HUB,CHENNAI,TAMIL NADU</td>\n",
       "      <td>ASHOK LEYLAND PLANT 1- HOSUR,HOSUR,KARNATAKA</td>\n",
       "      <td>13.1550,80.1960</td>\n",
       "      <td>12.7400,77.8200</td>\n",
       "      <td>2020-08-24 00:05:09</td>\n",
       "      <td>...</td>\n",
       "      <td>NaT</td>\n",
       "      <td>320.0</td>\n",
       "      <td>NaN</td>\n",
       "      <td>NaN</td>\n",
       "      <td>NaN</td>\n",
       "      <td>ALLEXCHE45</td>\n",
       "      <td>Ashok leyland limited</td>\n",
       "      <td>VIJEXHOSR7</td>\n",
       "      <td>VIJAY TRANSPORT</td>\n",
       "      <td>BRACKET / GRAB HANDLE</td>\n",
       "    </tr>\n",
       "    <tr>\n",
       "      <th>1</th>\n",
       "      <td>VAMOSYS</td>\n",
       "      <td>VCV00014271/082021</td>\n",
       "      <td>Regular</td>\n",
       "      <td>2020-08-27 16:22:22.827</td>\n",
       "      <td>TN30BC5917</td>\n",
       "      <td>DAIMLER INDIA COMMERCIAL VEHICLES,KANCHIPURAM,...</td>\n",
       "      <td>DAIMLER INDIA COMMERCIAL VEHICLES,KANCHIPURAM,...</td>\n",
       "      <td>12.8390,79.9540</td>\n",
       "      <td>12.8390,79.9540</td>\n",
       "      <td>2020-08-28 12:40:28</td>\n",
       "      <td>...</td>\n",
       "      <td>NaT</td>\n",
       "      <td>103.0</td>\n",
       "      <td>NaN</td>\n",
       "      <td>RAMESH</td>\n",
       "      <td>NaN</td>\n",
       "      <td>DMREXCHEUX</td>\n",
       "      <td>Daimler india commercial vehicles pvt lt</td>\n",
       "      <td>VJLEXSHE09</td>\n",
       "      <td>VJ LOGISTICS</td>\n",
       "      <td>ZB MODEL PLATE / 3143</td>\n",
       "    </tr>\n",
       "    <tr>\n",
       "      <th>2</th>\n",
       "      <td>CONSENT TRACK</td>\n",
       "      <td>VCV00014382/082021</td>\n",
       "      <td>Regular</td>\n",
       "      <td>2020-08-27 17:59:24.987</td>\n",
       "      <td>TN22AR2748</td>\n",
       "      <td>LUCAS TVS LTD-PONDY,PONDY,PONDICHERRY</td>\n",
       "      <td>LUCAS TVS LTD-PONDY,PONDY,PONDICHERRY</td>\n",
       "      <td>11.8710,79.7390</td>\n",
       "      <td>11.8710,79.7390</td>\n",
       "      <td>2020-08-28 09:05:09</td>\n",
       "      <td>...</td>\n",
       "      <td>NaT</td>\n",
       "      <td>300.0</td>\n",
       "      <td>NaN</td>\n",
       "      <td>GIRI</td>\n",
       "      <td>NaN</td>\n",
       "      <td>LUTGCCHE06</td>\n",
       "      <td>Lucas tvs ltd</td>\n",
       "      <td>GSTEXLAK1Q</td>\n",
       "      <td>G.S. TRANSPORT</td>\n",
       "      <td>LETTERING / FUSO</td>\n",
       "    </tr>\n",
       "    <tr>\n",
       "      <th>3</th>\n",
       "      <td>VAMOSYS</td>\n",
       "      <td>VCV00014743/082021</td>\n",
       "      <td>Regular</td>\n",
       "      <td>2020-08-28 00:48:24.503</td>\n",
       "      <td>TN28AQ0781</td>\n",
       "      <td>DAIMLER INDIA COMMERCIAL VEHICLES,KANCHIPURAM,...</td>\n",
       "      <td>DAIMLER INDIA COMMERCIAL VEHICLES,KANCHIPURAM,...</td>\n",
       "      <td>12.8390,79.9540</td>\n",
       "      <td>12.8390,79.9540</td>\n",
       "      <td>2020-08-28 12:40:31</td>\n",
       "      <td>...</td>\n",
       "      <td>NaT</td>\n",
       "      <td>61.0</td>\n",
       "      <td>NaN</td>\n",
       "      <td>RAVI</td>\n",
       "      <td>NaN</td>\n",
       "      <td>DMREXCHEUX</td>\n",
       "      <td>Daimler india commercial vehicles pvt lt</td>\n",
       "      <td>ARVEXNAM09</td>\n",
       "      <td>ARVINTH TRANSPORT</td>\n",
       "      <td>LU STRUT RA / RADIUS ROD</td>\n",
       "    </tr>\n",
       "    <tr>\n",
       "      <th>4</th>\n",
       "      <td>VAMOSYS</td>\n",
       "      <td>VCV00014744/082021</td>\n",
       "      <td>Regular</td>\n",
       "      <td>2020-08-28 01:23:19.243</td>\n",
       "      <td>TN68F1722</td>\n",
       "      <td>LUCAS TVS LTD-PONDY,PONDY,PONDICHERRY</td>\n",
       "      <td>LUCAS TVS LTD-PONDY,PONDY,PONDICHERRY</td>\n",
       "      <td>11.8720,79.6320</td>\n",
       "      <td>11.8720,79.6320</td>\n",
       "      <td>2020-08-28 12:40:29</td>\n",
       "      <td>...</td>\n",
       "      <td>NaT</td>\n",
       "      <td>240.0</td>\n",
       "      <td>NaN</td>\n",
       "      <td>TAMIL</td>\n",
       "      <td>NaN</td>\n",
       "      <td>LUTGCCHE06</td>\n",
       "      <td>Lucas tvs ltd</td>\n",
       "      <td>SRTEXKOR96</td>\n",
       "      <td>SR TRANSPORTS</td>\n",
       "      <td>WISHBONE / V ROD/HDT</td>\n",
       "    </tr>\n",
       "  </tbody>\n",
       "</table>\n",
       "<p>5 rows × 29 columns</p>\n",
       "</div>"
      ],
      "text/plain": [
       "     GpsProvider           BookingID Market/Regular           BookingID_Date  \\\n",
       "0  CONSENT TRACK  MVCV0000927/082021          Market 2020-08-17 14:59:01.000   \n",
       "1        VAMOSYS  VCV00014271/082021         Regular 2020-08-27 16:22:22.827   \n",
       "2  CONSENT TRACK  VCV00014382/082021         Regular 2020-08-27 17:59:24.987   \n",
       "3        VAMOSYS  VCV00014743/082021         Regular 2020-08-28 00:48:24.503   \n",
       "4        VAMOSYS  VCV00014744/082021         Regular 2020-08-28 01:23:19.243   \n",
       "\n",
       "   vehicle_no                                    Origin_Location  \\\n",
       "0    KA590408               TVSLSL-PUZHAL-HUB,CHENNAI,TAMIL NADU   \n",
       "1  TN30BC5917  DAIMLER INDIA COMMERCIAL VEHICLES,KANCHIPURAM,...   \n",
       "2  TN22AR2748              LUCAS TVS LTD-PONDY,PONDY,PONDICHERRY   \n",
       "3  TN28AQ0781  DAIMLER INDIA COMMERCIAL VEHICLES,KANCHIPURAM,...   \n",
       "4   TN68F1722              LUCAS TVS LTD-PONDY,PONDY,PONDICHERRY   \n",
       "\n",
       "                                Destination_Location      Org_lat_lon  \\\n",
       "0       ASHOK LEYLAND PLANT 1- HOSUR,HOSUR,KARNATAKA  13.1550,80.1960   \n",
       "1  DAIMLER INDIA COMMERCIAL VEHICLES,KANCHIPURAM,...  12.8390,79.9540   \n",
       "2              LUCAS TVS LTD-PONDY,PONDY,PONDICHERRY  11.8710,79.7390   \n",
       "3  DAIMLER INDIA COMMERCIAL VEHICLES,KANCHIPURAM,...  12.8390,79.9540   \n",
       "4              LUCAS TVS LTD-PONDY,PONDY,PONDICHERRY  11.8720,79.6320   \n",
       "\n",
       "       Des_lat_lon      Data_Ping_time  ... trip_end_date  \\\n",
       "0  12.7400,77.8200 2020-08-24 00:05:09  ...           NaT   \n",
       "1  12.8390,79.9540 2020-08-28 12:40:28  ...           NaT   \n",
       "2  11.8710,79.7390 2020-08-28 09:05:09  ...           NaT   \n",
       "3  12.8390,79.9540 2020-08-28 12:40:31  ...           NaT   \n",
       "4  11.8720,79.6320 2020-08-28 12:40:29  ...           NaT   \n",
       "\n",
       "  TRANSPORTATION_DISTANCE_IN_KM vehicleType Driver_Name  Driver_MobileNo  \\\n",
       "0                         320.0         NaN         NaN              NaN   \n",
       "1                         103.0         NaN      RAMESH              NaN   \n",
       "2                         300.0         NaN        GIRI              NaN   \n",
       "3                          61.0         NaN        RAVI              NaN   \n",
       "4                         240.0         NaN       TAMIL              NaN   \n",
       "\n",
       "   customerID                          customerNameCode  supplierID  \\\n",
       "0  ALLEXCHE45                     Ashok leyland limited  VIJEXHOSR7   \n",
       "1  DMREXCHEUX  Daimler india commercial vehicles pvt lt  VJLEXSHE09   \n",
       "2  LUTGCCHE06                             Lucas tvs ltd  GSTEXLAK1Q   \n",
       "3  DMREXCHEUX  Daimler india commercial vehicles pvt lt  ARVEXNAM09   \n",
       "4  LUTGCCHE06                             Lucas tvs ltd  SRTEXKOR96   \n",
       "\n",
       "    supplierNameCode          Material Shipped  \n",
       "0    VIJAY TRANSPORT     BRACKET / GRAB HANDLE  \n",
       "1       VJ LOGISTICS     ZB MODEL PLATE / 3143  \n",
       "2     G.S. TRANSPORT          LETTERING / FUSO  \n",
       "3  ARVINTH TRANSPORT  LU STRUT RA / RADIUS ROD  \n",
       "4      SR TRANSPORTS      WISHBONE / V ROD/HDT  \n",
       "\n",
       "[5 rows x 29 columns]"
      ]
     },
     "execution_count": 3,
     "metadata": {},
     "output_type": "execute_result"
    }
   ],
   "source": [
    "trip.head(5)"
   ]
  },
  {
   "cell_type": "code",
   "execution_count": 4,
   "id": "65efa386",
   "metadata": {},
   "outputs": [
    {
     "data": {
      "text/plain": [
       "Index(['GpsProvider', 'BookingID', 'Market/Regular ', 'BookingID_Date',\n",
       "       'vehicle_no', 'Origin_Location', 'Destination_Location', 'Org_lat_lon',\n",
       "       'Des_lat_lon', 'Data_Ping_time', 'Planned_ETA', 'Current_Location',\n",
       "       'DestinationLocation', 'actual_eta', 'Curr_lat', 'Curr_lon', 'ontime',\n",
       "       'delay', 'trip_start_date', 'trip_end_date',\n",
       "       'TRANSPORTATION_DISTANCE_IN_KM', 'vehicleType', 'Driver_Name',\n",
       "       'Driver_MobileNo', 'customerID', 'customerNameCode', 'supplierID',\n",
       "       'supplierNameCode', 'Material Shipped'],\n",
       "      dtype='object')"
      ]
     },
     "execution_count": 4,
     "metadata": {},
     "output_type": "execute_result"
    }
   ],
   "source": [
    "trip.columns"
   ]
  },
  {
   "cell_type": "code",
   "execution_count": 5,
   "id": "38f66c8d",
   "metadata": {},
   "outputs": [
    {
     "data": {
      "text/plain": [
       "(6880, 29)"
      ]
     },
     "execution_count": 5,
     "metadata": {},
     "output_type": "execute_result"
    }
   ],
   "source": [
    "trip.shape #finding the number of rows and columns"
   ]
  },
  {
   "cell_type": "code",
   "execution_count": 6,
   "id": "f09988b9",
   "metadata": {},
   "outputs": [
    {
     "name": "stdout",
     "output_type": "stream",
     "text": [
      "<class 'pandas.core.frame.DataFrame'>\n",
      "RangeIndex: 6880 entries, 0 to 6879\n",
      "Data columns (total 29 columns):\n",
      " #   Column                         Non-Null Count  Dtype         \n",
      "---  ------                         --------------  -----         \n",
      " 0   GpsProvider                    5927 non-null   object        \n",
      " 1   BookingID                      6880 non-null   object        \n",
      " 2   Market/Regular                 6880 non-null   object        \n",
      " 3   BookingID_Date                 6880 non-null   datetime64[ns]\n",
      " 4   vehicle_no                     6880 non-null   object        \n",
      " 5   Origin_Location                6880 non-null   object        \n",
      " 6   Destination_Location           6880 non-null   object        \n",
      " 7   Org_lat_lon                    6880 non-null   object        \n",
      " 8   Des_lat_lon                    6880 non-null   object        \n",
      " 9   Data_Ping_time                 5927 non-null   datetime64[ns]\n",
      " 10  Planned_ETA                    6880 non-null   datetime64[ns]\n",
      " 11  Current_Location               5916 non-null   object        \n",
      " 12  DestinationLocation            6880 non-null   object        \n",
      " 13  actual_eta                     6843 non-null   datetime64[ns]\n",
      " 14  Curr_lat                       5927 non-null   float64       \n",
      " 15  Curr_lon                       5927 non-null   float64       \n",
      " 16  ontime                         2548 non-null   object        \n",
      " 17  delay                          4342 non-null   object        \n",
      " 18  trip_start_date                6880 non-null   datetime64[ns]\n",
      " 19  trip_end_date                  6686 non-null   datetime64[ns]\n",
      " 20  TRANSPORTATION_DISTANCE_IN_KM  6168 non-null   float64       \n",
      " 21  vehicleType                    6052 non-null   object        \n",
      " 22  Driver_Name                    3451 non-null   object        \n",
      " 23  Driver_MobileNo                2691 non-null   float64       \n",
      " 24  customerID                     6880 non-null   object        \n",
      " 25  customerNameCode               6880 non-null   object        \n",
      " 26  supplierID                     6880 non-null   object        \n",
      " 27  supplierNameCode               6880 non-null   object        \n",
      " 28  Material Shipped               6880 non-null   object        \n",
      "dtypes: datetime64[ns](6), float64(4), object(19)\n",
      "memory usage: 1.5+ MB\n"
     ]
    }
   ],
   "source": [
    "trip.info()       # to get an overall view about data set"
   ]
  },
  {
   "cell_type": "markdown",
   "id": "f45061c3",
   "metadata": {},
   "source": [
    "The dataset have 6880 rows and 29 columns.Null vvalues are present in various columns"
   ]
  },
  {
   "cell_type": "markdown",
   "id": "91ff81a9",
   "metadata": {},
   "source": [
    "### 2) Preprocessing the dataset"
   ]
  },
  {
   "cell_type": "markdown",
   "id": "5fa7dbfa",
   "metadata": {},
   "source": [
    "#### 2.1)  Missing value handling"
   ]
  },
  {
   "cell_type": "code",
   "execution_count": 7,
   "id": "e6e66cf3",
   "metadata": {},
   "outputs": [
    {
     "data": {
      "text/plain": [
       "GpsProvider                       953\n",
       "BookingID                           0\n",
       "Market/Regular                      0\n",
       "BookingID_Date                      0\n",
       "vehicle_no                          0\n",
       "Origin_Location                     0\n",
       "Destination_Location                0\n",
       "Org_lat_lon                         0\n",
       "Des_lat_lon                         0\n",
       "Data_Ping_time                    953\n",
       "Planned_ETA                         0\n",
       "Current_Location                  964\n",
       "DestinationLocation                 0\n",
       "actual_eta                         37\n",
       "Curr_lat                          953\n",
       "Curr_lon                          953\n",
       "ontime                           4332\n",
       "delay                            2538\n",
       "trip_start_date                     0\n",
       "trip_end_date                     194\n",
       "TRANSPORTATION_DISTANCE_IN_KM     712\n",
       "vehicleType                       828\n",
       "Driver_Name                      3429\n",
       "Driver_MobileNo                  4189\n",
       "customerID                          0\n",
       "customerNameCode                    0\n",
       "supplierID                          0\n",
       "supplierNameCode                    0\n",
       "Material Shipped                    0\n",
       "dtype: int64"
      ]
     },
     "execution_count": 7,
     "metadata": {},
     "output_type": "execute_result"
    }
   ],
   "source": [
    "# Checking for missing values\n",
    "trip.isna().sum()"
   ]
  },
  {
   "cell_type": "code",
   "execution_count": 8,
   "id": "c77c4eb7",
   "metadata": {},
   "outputs": [],
   "source": [
    "# Fliiling 'Driver_MobileNo' by matching Driver_name and the rest with 0\n",
    "# Driver_MobileNo is of float type (in the data set)"
   ]
  },
  {
   "cell_type": "code",
   "execution_count": 9,
   "id": "20b9d244",
   "metadata": {},
   "outputs": [],
   "source": [
    "trip['Driver_MobileNo'] = trip['Driver_MobileNo'].fillna(trip.groupby('Driver_Name')['Driver_MobileNo'].transform('median'))"
   ]
  },
  {
   "cell_type": "code",
   "execution_count": 10,
   "id": "6f9ef9fa",
   "metadata": {},
   "outputs": [],
   "source": [
    "trip['Driver_MobileNo'].fillna(0, inplace=True)"
   ]
  },
  {
   "cell_type": "code",
   "execution_count": 11,
   "id": "7c5482c4",
   "metadata": {},
   "outputs": [],
   "source": [
    "# Filling null values in Driver_name column with 'Unknown' tag\n",
    "trip['Driver_Name']=trip['Driver_Name'].fillna('Unknown')"
   ]
  },
  {
   "cell_type": "code",
   "execution_count": 12,
   "id": "57a698a4",
   "metadata": {},
   "outputs": [],
   "source": [
    "# Filling Gps provider after grouping by 'vehicle_no' and rest by 'Unknown'"
   ]
  },
  {
   "cell_type": "code",
   "execution_count": 14,
   "id": "77bbbc42",
   "metadata": {},
   "outputs": [],
   "source": [
    "trip['GpsProvider'] =trip.groupby('vehicle_no').GpsProvider.apply(lambda x: x.fillna(x.mode(dropna=False).head()[0])).reset_index(drop=True)"
   ]
  },
  {
   "cell_type": "code",
   "execution_count": 15,
   "id": "52a720b4",
   "metadata": {},
   "outputs": [],
   "source": [
    "trip['GpsProvider']=trip['GpsProvider'].fillna('Unknown')"
   ]
  },
  {
   "cell_type": "code",
   "execution_count": 16,
   "id": "f5254723",
   "metadata": {},
   "outputs": [],
   "source": [
    "# Filling 'vehicleType' provider after grouping by 'vehicle_no' and rest by 'Unknown'"
   ]
  },
  {
   "cell_type": "code",
   "execution_count": 18,
   "id": "b79b6a42",
   "metadata": {},
   "outputs": [],
   "source": [
    "trip['vehicleType'] =trip.groupby('vehicle_no').vehicleType.apply(lambda x: x.fillna(x.mode(dropna=False).head()[0])).reset_index(drop=True)"
   ]
  },
  {
   "cell_type": "code",
   "execution_count": 19,
   "id": "8b0d2e3d",
   "metadata": {},
   "outputs": [],
   "source": [
    "trip['vehicleType']=trip['vehicleType'].fillna('Unknown')"
   ]
  },
  {
   "cell_type": "code",
   "execution_count": 20,
   "id": "a1888f03",
   "metadata": {},
   "outputs": [],
   "source": [
    "# Filling 'TRANSPORTATION_DISTANCE_IN_KM'"
   ]
  },
  {
   "cell_type": "code",
   "execution_count": 21,
   "id": "19b4ac75",
   "metadata": {},
   "outputs": [],
   "source": [
    "from geopy import distance\n",
    "geodistance_km = []\n",
    "for row in trip.itertuples(index=False):\n",
    "   geodistance_km.append(distance.distance(row.Org_lat_lon, row.Des_lat_lon).km)\n",
    "trip['geodistaince_km']=geodistance_km\n",
    "# Replace NaN row in 'TRANSPORTATION_DISTANCE_IN_KM' with geodisatnce values\n",
    "trip.TRANSPORTATION_DISTANCE_IN_KM.fillna(trip.geodistaince_km, inplace=True)"
   ]
  },
  {
   "cell_type": "code",
   "execution_count": 22,
   "id": "6e463780",
   "metadata": {},
   "outputs": [],
   "source": [
    "trip=trip.drop('geodistaince_km',axis=1)"
   ]
  },
  {
   "cell_type": "code",
   "execution_count": 23,
   "id": "d0b8a6e8",
   "metadata": {},
   "outputs": [],
   "source": [
    "# Filling and encoding ontime and delay columns "
   ]
  },
  {
   "cell_type": "code",
   "execution_count": 24,
   "id": "c34d4c32",
   "metadata": {},
   "outputs": [],
   "source": [
    "trip.ontime.replace({'G':1, np.NaN:0},inplace=True)\n",
    "trip.delay.replace({'R':1, np.NaN:0},inplace=True)"
   ]
  },
  {
   "cell_type": "code",
   "execution_count": 25,
   "id": "0f4cf63d",
   "metadata": {},
   "outputs": [],
   "source": [
    "# Dropping fields where Location related data are missing"
   ]
  },
  {
   "cell_type": "code",
   "execution_count": 26,
   "id": "4daabec9",
   "metadata": {},
   "outputs": [],
   "source": [
    "trip.dropna(subset=['Current_Location'], inplace=True)"
   ]
  },
  {
   "cell_type": "code",
   "execution_count": 27,
   "id": "50d99dcf",
   "metadata": {},
   "outputs": [],
   "source": [
    "# Filling 'trip_end_date'"
   ]
  },
  {
   "cell_type": "code",
   "execution_count": 28,
   "id": "00e17b6f",
   "metadata": {},
   "outputs": [],
   "source": [
    "import pandas as pd\n",
    "pd.options.mode.chained_assignment = None  # default='warn'"
   ]
  },
  {
   "cell_type": "code",
   "execution_count": 29,
   "id": "113dd546",
   "metadata": {},
   "outputs": [],
   "source": [
    "import datetime\n",
    "import random\n",
    "df_sub=trip[trip['trip_end_date'].isna()]\n",
    "for i in df_sub.index:\n",
    "  if df_sub['ontime'][i]==0:\n",
    "    df_sub['trip_end_date'][i]=df_sub['actual_eta'][i]\n",
    "  else:\n",
    "    df_sub['trip_end_date'][i]=df_sub['Planned_ETA'][i]-datetime.timedelta(random.randint(0,3))"
   ]
  },
  {
   "cell_type": "code",
   "execution_count": 30,
   "id": "1ed5caf8",
   "metadata": {},
   "outputs": [],
   "source": [
    "mask = trip.BookingID.isin(df_sub.BookingID)\n",
    "trip.loc[mask,'trip_end_date'] =df_sub ['trip_end_date']"
   ]
  },
  {
   "cell_type": "code",
   "execution_count": 31,
   "id": "821a17d6",
   "metadata": {},
   "outputs": [],
   "source": [
    "# (Eventhough part of Feature engineering,adding new columns Origin city and Dest city for usage in the upcoming steps)"
   ]
  },
  {
   "cell_type": "code",
   "execution_count": 32,
   "id": "1851a0e6",
   "metadata": {},
   "outputs": [],
   "source": [
    "trip['Origin_city'] = trip['Origin_Location'].str.split(',').apply(lambda x: x[1])\n",
    "trip['Dest_city'] = trip['Destination_Location'].str.split(',').apply(lambda x: x[1])"
   ]
  },
  {
   "cell_type": "code",
   "execution_count": 33,
   "id": "7baf0bb5",
   "metadata": {},
   "outputs": [],
   "source": [
    "#Null values in actualETA falls between continuous dates and times,so filling them using ffill\n",
    "trip['actual_eta']=trip['actual_eta'].fillna(method='ffill')"
   ]
  },
  {
   "cell_type": "code",
   "execution_count": 34,
   "id": "5c6d5155",
   "metadata": {},
   "outputs": [
    {
     "data": {
      "text/plain": [
       "GpsProvider                      0\n",
       "BookingID                        0\n",
       "Market/Regular                   0\n",
       "BookingID_Date                   0\n",
       "vehicle_no                       0\n",
       "Origin_Location                  0\n",
       "Destination_Location             0\n",
       "Org_lat_lon                      0\n",
       "Des_lat_lon                      0\n",
       "Data_Ping_time                   0\n",
       "Planned_ETA                      0\n",
       "Current_Location                 0\n",
       "DestinationLocation              0\n",
       "actual_eta                       0\n",
       "Curr_lat                         0\n",
       "Curr_lon                         0\n",
       "ontime                           0\n",
       "delay                            0\n",
       "trip_start_date                  0\n",
       "trip_end_date                    0\n",
       "TRANSPORTATION_DISTANCE_IN_KM    0\n",
       "vehicleType                      0\n",
       "Driver_Name                      0\n",
       "Driver_MobileNo                  0\n",
       "customerID                       0\n",
       "customerNameCode                 0\n",
       "supplierID                       0\n",
       "supplierNameCode                 0\n",
       "Material Shipped                 0\n",
       "Origin_city                      0\n",
       "Dest_city                        0\n",
       "dtype: int64"
      ]
     },
     "execution_count": 34,
     "metadata": {},
     "output_type": "execute_result"
    }
   ],
   "source": [
    "trip.isna().sum()"
   ]
  },
  {
   "cell_type": "markdown",
   "id": "2d348d6d",
   "metadata": {},
   "source": [
    "#### 2.2)  Outlier detection and handling"
   ]
  },
  {
   "cell_type": "code",
   "execution_count": 35,
   "id": "82531d5a",
   "metadata": {},
   "outputs": [
    {
     "name": "stdout",
     "output_type": "stream",
     "text": [
      "GpsProvider ___ 29 ___ object\n",
      "BookingID ___ 5911 ___ object\n",
      "Market/Regular  ___ 2 ___ object\n",
      "BookingID_Date ___ 5225 ___ datetime64[ns]\n",
      "vehicle_no ___ 1769 ___ object\n",
      "Origin_Location ___ 169 ___ object\n",
      "Destination_Location ___ 460 ___ object\n",
      "Org_lat_lon ___ 169 ___ object\n",
      "Des_lat_lon ___ 462 ___ object\n",
      "Data_Ping_time ___ 3745 ___ datetime64[ns]\n",
      "Planned_ETA ___ 5375 ___ datetime64[ns]\n",
      "Current_Location ___ 2567 ___ object\n",
      "DestinationLocation ___ 460 ___ object\n",
      "actual_eta ___ 5820 ___ datetime64[ns]\n",
      "Curr_lat ___ 4130 ___ float64\n",
      "Curr_lon ___ 4100 ___ float64\n",
      "ontime ___ 2 ___ int64\n",
      "delay ___ 2 ___ int64\n",
      "trip_start_date ___ 5219 ___ datetime64[ns]\n",
      "trip_end_date ___ 3995 ___ datetime64[ns]\n",
      "TRANSPORTATION_DISTANCE_IN_KM ___ 609 ___ float64\n",
      "vehicleType ___ 42 ___ object\n",
      "Driver_Name ___ 1356 ___ object\n",
      "Driver_MobileNo ___ 1274 ___ float64\n",
      "customerID ___ 38 ___ object\n",
      "customerNameCode ___ 38 ___ object\n",
      "supplierID ___ 274 ___ object\n",
      "supplierNameCode ___ 262 ___ object\n",
      "Material Shipped ___ 1202 ___ object\n",
      "Origin_city ___ 78 ___ object\n",
      "Dest_city ___ 208 ___ object\n"
     ]
    }
   ],
   "source": [
    "for i in trip.columns:\n",
    "    print(i,'___',trip[i].nunique(),'___',trip[i].dtype)"
   ]
  },
  {
   "cell_type": "code",
   "execution_count": 36,
   "id": "b9932e44",
   "metadata": {},
   "outputs": [],
   "source": [
    "#Using box plot to determine outliers for continuous numerical variable"
   ]
  },
  {
   "cell_type": "code",
   "execution_count": 37,
   "id": "e48dc262",
   "metadata": {},
   "outputs": [
    {
     "data": {
      "image/png": "[encoded data removed]",
      "text/plain": [
       "<Figure size 432x288 with 1 Axes>"
      ]
     },
     "metadata": {
      "needs_background": "light"
     },
     "output_type": "display_data"
    }
   ],
   "source": [
    "import matplotlib.pyplot as plt\n",
    "plt.title('Box plot of TRANSPORTATION DISTANCE IN KM')\n",
    "medianprops = dict(color=\"red\",linewidth=1)\n",
    "trip.boxplot(column='TRANSPORTATION_DISTANCE_IN_KM',return_type='axes',showmeans=True,medianprops=medianprops)\n",
    "plt.show()"
   ]
  },
  {
   "cell_type": "code",
   "execution_count": 38,
   "id": "4bacc888",
   "metadata": {},
   "outputs": [
    {
     "name": "stdout",
     "output_type": "stream",
     "text": [
      "Number of outliers 167\n"
     ]
    }
   ],
   "source": [
    "# Finding the outlier using percentiles\n",
    "import numpy as np\n",
    "Q1=np.percentile(trip['TRANSPORTATION_DISTANCE_IN_KM'],25,interpolation='midpoint')\n",
    "Q2=np.percentile(trip['TRANSPORTATION_DISTANCE_IN_KM'],50,interpolation='midpoint')\n",
    "Q3=np.percentile(trip['TRANSPORTATION_DISTANCE_IN_KM'],75,interpolation='midpoint')\n",
    "IQR=Q3-Q1\n",
    "low_limit=Q1-1.5*IQR\n",
    "Up_limit=Q3+1.5*IQR\n",
    "outlier=[]\n",
    "for x in trip['TRANSPORTATION_DISTANCE_IN_KM']:\n",
    "    if((x>Up_limit) or (x<low_limit)):\n",
    "       outlier.append(x)\n",
    "print('Number of outliers',len(outlier))"
   ]
  },
  {
   "cell_type": "code",
   "execution_count": 39,
   "id": "4a232d72",
   "metadata": {},
   "outputs": [
    {
     "data": {
      "text/plain": [
       "[2543.0,\n",
       " 2750.0,\n",
       " 2750.0,\n",
       " 2455.0,\n",
       " 2750.0,\n",
       " 2750.0,\n",
       " 2750.0,\n",
       " 2600.0,\n",
       " 2750.0,\n",
       " 2600.0,\n",
       " 2600.0,\n",
       " 2750.0,\n",
       " 2455.0,\n",
       " 2700.0,\n",
       " 2750.0,\n",
       " 2750.0,\n",
       " 2455.0,\n",
       " 2600.0,\n",
       " 2700.0,\n",
       " 2750.0,\n",
       " 2750.0,\n",
       " 2750.0,\n",
       " 2700.0,\n",
       " 2455.0,\n",
       " 2600.0,\n",
       " 2455.0,\n",
       " 2543.0,\n",
       " 2455.0,\n",
       " 2455.0,\n",
       " 2455.0,\n",
       " 2553.0,\n",
       " 2483.0,\n",
       " 2511.0,\n",
       " 2553.0,\n",
       " 2884.0,\n",
       " 2455.0,\n",
       " 2700.0,\n",
       " 2750.0,\n",
       " 2600.0,\n",
       " 2898.0,\n",
       " 2600.0,\n",
       " 2750.0,\n",
       " 2750.0,\n",
       " 2700.0,\n",
       " 2704.0,\n",
       " 2700.0,\n",
       " 2455.0,\n",
       " 2600.0,\n",
       " 2455.0,\n",
       " 2700.0,\n",
       " 2700.0,\n",
       " 2750.0,\n",
       " 2455.0,\n",
       " 2648.0,\n",
       " 2700.0,\n",
       " 2700.0,\n",
       " 2511.0,\n",
       " 2441.0,\n",
       " 2455.0,\n",
       " 2600.0,\n",
       " 2438.0,\n",
       " 2750.0,\n",
       " 2700.0,\n",
       " 2700.0,\n",
       " 2750.0,\n",
       " 2455.0,\n",
       " 2455.0,\n",
       " 2455.0,\n",
       " 2750.0,\n",
       " 2455.0,\n",
       " 2600.0,\n",
       " 2750.0,\n",
       " 2700.0,\n",
       " 2463.0,\n",
       " 2750.0,\n",
       " 2600.0,\n",
       " 2600.0,\n",
       " 2700.0,\n",
       " 2463.0,\n",
       " 2608.0,\n",
       " 2750.0,\n",
       " 2455.0,\n",
       " 2455.0,\n",
       " 2600.0,\n",
       " 2455.0,\n",
       " 2455.0,\n",
       " 2511.0,\n",
       " 2455.0,\n",
       " 2455.0,\n",
       " 2455.0,\n",
       " 2700.0,\n",
       " 2700.0,\n",
       " 2710.0,\n",
       " 2600.0,\n",
       " 2700.0,\n",
       " 2681.0,\n",
       " 2750.0,\n",
       " 2750.0,\n",
       " 2455.0,\n",
       " 2455.0,\n",
       " 2455.0,\n",
       " 2543.0,\n",
       " 2600.0,\n",
       " 2543.0,\n",
       " 2600.0,\n",
       " 2700.0,\n",
       " 2700.0,\n",
       " 2511.0,\n",
       " 2700.0,\n",
       " 2543.0,\n",
       " 2455.0,\n",
       " 2700.0,\n",
       " 2455.0,\n",
       " 2700.0,\n",
       " 2750.0,\n",
       " 2455.0,\n",
       " 2455.0,\n",
       " 2750.0,\n",
       " 2700.0,\n",
       " 2600.0,\n",
       " 2700.0,\n",
       " 2700.0,\n",
       " 2750.0,\n",
       " 2543.0,\n",
       " 2700.0,\n",
       " 2700.0,\n",
       " 2455.0,\n",
       " 2455.0,\n",
       " 2455.0,\n",
       " 2455.0,\n",
       " 2600.0,\n",
       " 2700.0,\n",
       " 2750.0,\n",
       " 2455.0,\n",
       " 2600.0,\n",
       " 2543.0,\n",
       " 2700.0,\n",
       " 2455.0,\n",
       " 2455.0,\n",
       " 2455.0,\n",
       " 2455.0,\n",
       " 2723.0,\n",
       " 2455.0,\n",
       " 2800.0,\n",
       " 2800.0,\n",
       " 2700.0,\n",
       " 2455.0,\n",
       " 2700.0,\n",
       " 2455.0,\n",
       " 2543.0,\n",
       " 2750.0,\n",
       " 2455.0,\n",
       " 2543.0,\n",
       " 2455.0,\n",
       " 2455.0,\n",
       " 2455.0,\n",
       " 2455.0,\n",
       " 2723.0,\n",
       " 2455.0,\n",
       " 2700.0,\n",
       " 2455.0,\n",
       " 2543.0,\n",
       " 2455.0,\n",
       " 2642.85,\n",
       " 2640.75,\n",
       " 2640.75,\n",
       " 2954.7]"
      ]
     },
     "execution_count": 39,
     "metadata": {},
     "output_type": "execute_result"
    }
   ],
   "source": [
    "outlier"
   ]
  },
  {
   "cell_type": "markdown",
   "id": "49bcba81",
   "metadata": {},
   "source": [
    "All outliers are between 2500 and 3000 "
   ]
  },
  {
   "cell_type": "markdown",
   "id": "be86c368",
   "metadata": {},
   "source": [
    "We could easily cap the outliers. But the 169 outliers which are distances between 2500 and 3000, is a natural part of the population , so leaving it in the dataset"
   ]
  },
  {
   "cell_type": "code",
   "execution_count": 40,
   "id": "71584e91",
   "metadata": {},
   "outputs": [
    {
     "data": {
      "text/html": [
       "<div>\n",
       "<style scoped>\n",
       "    .dataframe tbody tr th:only-of-type {\n",
       "        vertical-align: middle;\n",
       "    }\n",
       "\n",
       "    .dataframe tbody tr th {\n",
       "        vertical-align: top;\n",
       "    }\n",
       "\n",
       "    .dataframe thead th {\n",
       "        text-align: right;\n",
       "    }\n",
       "</style>\n",
       "<table border=\"1\" class=\"dataframe\">\n",
       "  <thead>\n",
       "    <tr style=\"text-align: right;\">\n",
       "      <th></th>\n",
       "      <th>GpsProvider</th>\n",
       "      <th>BookingID</th>\n",
       "      <th>Market/Regular</th>\n",
       "      <th>BookingID_Date</th>\n",
       "      <th>vehicle_no</th>\n",
       "      <th>Origin_Location</th>\n",
       "      <th>Destination_Location</th>\n",
       "      <th>Org_lat_lon</th>\n",
       "      <th>Des_lat_lon</th>\n",
       "      <th>Data_Ping_time</th>\n",
       "      <th>...</th>\n",
       "      <th>vehicleType</th>\n",
       "      <th>Driver_Name</th>\n",
       "      <th>Driver_MobileNo</th>\n",
       "      <th>customerID</th>\n",
       "      <th>customerNameCode</th>\n",
       "      <th>supplierID</th>\n",
       "      <th>supplierNameCode</th>\n",
       "      <th>Material Shipped</th>\n",
       "      <th>Origin_city</th>\n",
       "      <th>Dest_city</th>\n",
       "    </tr>\n",
       "  </thead>\n",
       "  <tbody>\n",
       "    <tr>\n",
       "      <th>1278</th>\n",
       "      <td>VAMOSYS</td>\n",
       "      <td>AEIBK2024564</td>\n",
       "      <td>Regular</td>\n",
       "      <td>2020-08-01 11:21:44</td>\n",
       "      <td>MH14GU4937</td>\n",
       "      <td>Shive, Pune, Maharashtra</td>\n",
       "      <td>Shive, Pune, Maharashtra</td>\n",
       "      <td>18.750621,73.87719</td>\n",
       "      <td>18.750621,73.87719</td>\n",
       "      <td>2020-08-14 14:50:27</td>\n",
       "      <td>...</td>\n",
       "      <td>1.5 MT Vehicle (Closed Body)</td>\n",
       "      <td>VIKAS DABHADE</td>\n",
       "      <td>8.421821e+09</td>\n",
       "      <td>CSYEXCHEM2</td>\n",
       "      <td>Comstar automotive technologies pvt ltd</td>\n",
       "      <td>67824</td>\n",
       "      <td>KIRAN BAJIRAO SHINDE</td>\n",
       "      <td>PINION</td>\n",
       "      <td>Pune</td>\n",
       "      <td>Pune</td>\n",
       "    </tr>\n",
       "    <tr>\n",
       "      <th>1400</th>\n",
       "      <td>VAMOSYS</td>\n",
       "      <td>AEIBK2025418</td>\n",
       "      <td>Regular</td>\n",
       "      <td>2020-08-10 11:54:17</td>\n",
       "      <td>MH14GU4937</td>\n",
       "      <td>Shive, Pune, Maharashtra</td>\n",
       "      <td>Shive, Pune, Maharashtra</td>\n",
       "      <td>18.750621,73.87719</td>\n",
       "      <td>18.750621,73.87719</td>\n",
       "      <td>2020-08-13 13:45:34</td>\n",
       "      <td>...</td>\n",
       "      <td>1.5 MT Vehicle (Closed Body)</td>\n",
       "      <td>KIRAN SHINDE</td>\n",
       "      <td>9.096448e+09</td>\n",
       "      <td>CSYEXCHEM2</td>\n",
       "      <td>Comstar automotive technologies pvt ltd</td>\n",
       "      <td>67824</td>\n",
       "      <td>KIRAN BAJIRAO SHINDE</td>\n",
       "      <td>AUTO PARTS</td>\n",
       "      <td>Pune</td>\n",
       "      <td>Pune</td>\n",
       "    </tr>\n",
       "    <tr>\n",
       "      <th>1401</th>\n",
       "      <td>VAMOSYS</td>\n",
       "      <td>AEIBK2024916</td>\n",
       "      <td>Regular</td>\n",
       "      <td>2020-08-05 17:53:18</td>\n",
       "      <td>MH14GU4937</td>\n",
       "      <td>Shive, Pune, Maharashtra</td>\n",
       "      <td>Shive, Pune, Maharashtra</td>\n",
       "      <td>18.750621,73.87719</td>\n",
       "      <td>18.750621,73.87719</td>\n",
       "      <td>2020-08-13 13:25:22</td>\n",
       "      <td>...</td>\n",
       "      <td>1.5 MT Vehicle (Closed Body)</td>\n",
       "      <td>VIKAS DABHADE</td>\n",
       "      <td>8.421821e+09</td>\n",
       "      <td>CSYEXCHEM2</td>\n",
       "      <td>Comstar automotive technologies pvt ltd</td>\n",
       "      <td>67824</td>\n",
       "      <td>KIRAN BAJIRAO SHINDE</td>\n",
       "      <td>AUTO PARTS</td>\n",
       "      <td>Pune</td>\n",
       "      <td>Pune</td>\n",
       "    </tr>\n",
       "    <tr>\n",
       "      <th>1402</th>\n",
       "      <td>VAMOSYS</td>\n",
       "      <td>AEIBK2025420</td>\n",
       "      <td>Regular</td>\n",
       "      <td>2020-08-10 12:12:14</td>\n",
       "      <td>MH14EM0172</td>\n",
       "      <td>Shive, Pune, Maharashtra</td>\n",
       "      <td>Shive, Pune, Maharashtra</td>\n",
       "      <td>18.750621,73.87719</td>\n",
       "      <td>18.750621,73.87719</td>\n",
       "      <td>2020-08-13 13:25:21</td>\n",
       "      <td>...</td>\n",
       "      <td>Mahindra LCV 1MT</td>\n",
       "      <td>VIKAS DABHADE</td>\n",
       "      <td>8.421821e+09</td>\n",
       "      <td>CSYEXCHEM2</td>\n",
       "      <td>Comstar automotive technologies pvt ltd</td>\n",
       "      <td>67824</td>\n",
       "      <td>KIRAN BAJIRAO SHINDE</td>\n",
       "      <td>EMPTY TRAYS</td>\n",
       "      <td>Pune</td>\n",
       "      <td>Pune</td>\n",
       "    </tr>\n",
       "    <tr>\n",
       "      <th>1408</th>\n",
       "      <td>VAMOSYS</td>\n",
       "      <td>AEIBK2025410</td>\n",
       "      <td>Regular</td>\n",
       "      <td>2020-08-10 11:25:30</td>\n",
       "      <td>MH12FZ3608</td>\n",
       "      <td>Shive, Pune, Maharashtra</td>\n",
       "      <td>Shive, Pune, Maharashtra</td>\n",
       "      <td>18.750621,73.87719</td>\n",
       "      <td>18.750621,73.87719</td>\n",
       "      <td>2020-08-13 12:45:30</td>\n",
       "      <td>...</td>\n",
       "      <td>17 FT Open 5MT - MCV</td>\n",
       "      <td>DAIWAN KADAM</td>\n",
       "      <td>9.272500e+09</td>\n",
       "      <td>CSYEXCHEM2</td>\n",
       "      <td>Comstar automotive technologies pvt ltd</td>\n",
       "      <td>67762</td>\n",
       "      <td>DAIWAN DEVIDAS KADAM</td>\n",
       "      <td>EMPTY TRAY</td>\n",
       "      <td>Pune</td>\n",
       "      <td>Pune</td>\n",
       "    </tr>\n",
       "  </tbody>\n",
       "</table>\n",
       "<p>5 rows × 31 columns</p>\n",
       "</div>"
      ],
      "text/plain": [
       "     GpsProvider     BookingID Market/Regular       BookingID_Date  \\\n",
       "1278     VAMOSYS  AEIBK2024564         Regular 2020-08-01 11:21:44   \n",
       "1400     VAMOSYS  AEIBK2025418         Regular 2020-08-10 11:54:17   \n",
       "1401     VAMOSYS  AEIBK2024916         Regular 2020-08-05 17:53:18   \n",
       "1402     VAMOSYS  AEIBK2025420         Regular 2020-08-10 12:12:14   \n",
       "1408     VAMOSYS  AEIBK2025410         Regular 2020-08-10 11:25:30   \n",
       "\n",
       "      vehicle_no           Origin_Location      Destination_Location  \\\n",
       "1278  MH14GU4937  Shive, Pune, Maharashtra  Shive, Pune, Maharashtra   \n",
       "1400  MH14GU4937  Shive, Pune, Maharashtra  Shive, Pune, Maharashtra   \n",
       "1401  MH14GU4937  Shive, Pune, Maharashtra  Shive, Pune, Maharashtra   \n",
       "1402  MH14EM0172  Shive, Pune, Maharashtra  Shive, Pune, Maharashtra   \n",
       "1408  MH12FZ3608  Shive, Pune, Maharashtra  Shive, Pune, Maharashtra   \n",
       "\n",
       "             Org_lat_lon         Des_lat_lon      Data_Ping_time  ...  \\\n",
       "1278  18.750621,73.87719  18.750621,73.87719 2020-08-14 14:50:27  ...   \n",
       "1400  18.750621,73.87719  18.750621,73.87719 2020-08-13 13:45:34  ...   \n",
       "1401  18.750621,73.87719  18.750621,73.87719 2020-08-13 13:25:22  ...   \n",
       "1402  18.750621,73.87719  18.750621,73.87719 2020-08-13 13:25:21  ...   \n",
       "1408  18.750621,73.87719  18.750621,73.87719 2020-08-13 12:45:30  ...   \n",
       "\n",
       "                       vehicleType    Driver_Name Driver_MobileNo  customerID  \\\n",
       "1278  1.5 MT Vehicle (Closed Body)  VIKAS DABHADE    8.421821e+09  CSYEXCHEM2   \n",
       "1400  1.5 MT Vehicle (Closed Body)   KIRAN SHINDE    9.096448e+09  CSYEXCHEM2   \n",
       "1401  1.5 MT Vehicle (Closed Body)  VIKAS DABHADE    8.421821e+09  CSYEXCHEM2   \n",
       "1402              Mahindra LCV 1MT  VIKAS DABHADE    8.421821e+09  CSYEXCHEM2   \n",
       "1408          17 FT Open 5MT - MCV   DAIWAN KADAM    9.272500e+09  CSYEXCHEM2   \n",
       "\n",
       "                             customerNameCode  supplierID  \\\n",
       "1278  Comstar automotive technologies pvt ltd       67824   \n",
       "1400  Comstar automotive technologies pvt ltd       67824   \n",
       "1401  Comstar automotive technologies pvt ltd       67824   \n",
       "1402  Comstar automotive technologies pvt ltd       67824   \n",
       "1408  Comstar automotive technologies pvt ltd       67762   \n",
       "\n",
       "          supplierNameCode  Material Shipped Origin_city Dest_city  \n",
       "1278  KIRAN BAJIRAO SHINDE            PINION        Pune      Pune  \n",
       "1400  KIRAN BAJIRAO SHINDE        AUTO PARTS        Pune      Pune  \n",
       "1401  KIRAN BAJIRAO SHINDE        AUTO PARTS        Pune      Pune  \n",
       "1402  KIRAN BAJIRAO SHINDE       EMPTY TRAYS        Pune      Pune  \n",
       "1408  DAIWAN DEVIDAS KADAM        EMPTY TRAY        Pune      Pune  \n",
       "\n",
       "[5 rows x 31 columns]"
      ]
     },
     "execution_count": 40,
     "metadata": {},
     "output_type": "execute_result"
    }
   ],
   "source": [
    "trip[trip['TRANSPORTATION_DISTANCE_IN_KM']==0].head(5)"
   ]
  },
  {
   "cell_type": "code",
   "execution_count": 41,
   "id": "1c5bb813",
   "metadata": {},
   "outputs": [
    {
     "data": {
      "text/html": [
       "<div>\n",
       "<style scoped>\n",
       "    .dataframe tbody tr th:only-of-type {\n",
       "        vertical-align: middle;\n",
       "    }\n",
       "\n",
       "    .dataframe tbody tr th {\n",
       "        vertical-align: top;\n",
       "    }\n",
       "\n",
       "    .dataframe thead th {\n",
       "        text-align: right;\n",
       "    }\n",
       "</style>\n",
       "<table border=\"1\" class=\"dataframe\">\n",
       "  <thead>\n",
       "    <tr style=\"text-align: right;\">\n",
       "      <th></th>\n",
       "      <th>GpsProvider</th>\n",
       "      <th>BookingID</th>\n",
       "      <th>Market/Regular</th>\n",
       "      <th>BookingID_Date</th>\n",
       "      <th>vehicle_no</th>\n",
       "      <th>Origin_Location</th>\n",
       "      <th>Destination_Location</th>\n",
       "      <th>Org_lat_lon</th>\n",
       "      <th>Des_lat_lon</th>\n",
       "      <th>Data_Ping_time</th>\n",
       "      <th>Planned_ETA</th>\n",
       "      <th>Current_Location</th>\n",
       "      <th>DestinationLocation</th>\n",
       "      <th>actual_eta</th>\n",
       "      <th>Curr_lat</th>\n",
       "      <th>Curr_lon</th>\n",
       "      <th>ontime</th>\n",
       "      <th>delay</th>\n",
       "      <th>trip_start_date</th>\n",
       "      <th>trip_end_date</th>\n",
       "      <th>TRANSPORTATION_DISTANCE_IN_KM</th>\n",
       "      <th>vehicleType</th>\n",
       "      <th>Driver_Name</th>\n",
       "      <th>Driver_MobileNo</th>\n",
       "      <th>customerID</th>\n",
       "      <th>customerNameCode</th>\n",
       "      <th>supplierID</th>\n",
       "      <th>supplierNameCode</th>\n",
       "      <th>Material Shipped</th>\n",
       "      <th>Origin_city</th>\n",
       "      <th>Dest_city</th>\n",
       "    </tr>\n",
       "  </thead>\n",
       "  <tbody>\n",
       "    <tr>\n",
       "      <th>6868</th>\n",
       "      <td>JTECH</td>\n",
       "      <td>WDSBKTP44502</td>\n",
       "      <td>Regular</td>\n",
       "      <td>2019-04-15 15:15:13</td>\n",
       "      <td>KA21A5090</td>\n",
       "      <td>Mugabala, Bangalore Rural, Karnataka</td>\n",
       "      <td>Peenya Small Industries, Bangalore, Karnataka</td>\n",
       "      <td>16.560192249175344,80.792293091599547</td>\n",
       "      <td>13.196312912801169,77.708156925688726</td>\n",
       "      <td>2019-06-14 15:20:12</td>\n",
       "      <td>1899-12-30 04:06:00</td>\n",
       "      <td>Shed No 60, Medahalli Kadugodi Road, Virgonaga...</td>\n",
       "      <td>Peenya Small Industries, Bangalore, Karnataka</td>\n",
       "      <td>1899-12-30 03:21:00</td>\n",
       "      <td>13.025077</td>\n",
       "      <td>77.723114</td>\n",
       "      <td>0</td>\n",
       "      <td>1</td>\n",
       "      <td>1899-12-30 00:00:00</td>\n",
       "      <td>1899-12-30 03:21:00</td>\n",
       "      <td>41.000000</td>\n",
       "      <td>40 FT 3XL Trailer 35MT</td>\n",
       "      <td>Unknown</td>\n",
       "      <td>0.0</td>\n",
       "      <td>LTLEXMUM40</td>\n",
       "      <td>Larsen &amp; toubro limited</td>\n",
       "      <td>55556</td>\n",
       "      <td>A S TRANSPORTS</td>\n",
       "      <td>INSRT-VLV ST INTK</td>\n",
       "      <td>Bangalore Rural</td>\n",
       "      <td>Bangalore</td>\n",
       "    </tr>\n",
       "    <tr>\n",
       "      <th>5887</th>\n",
       "      <td>JTECH</td>\n",
       "      <td>WDSBKTP42161</td>\n",
       "      <td>Regular</td>\n",
       "      <td>2019-03-21 12:21:39</td>\n",
       "      <td>KA01AH5384</td>\n",
       "      <td>Mugabala, Bangalore Rural, Karnataka</td>\n",
       "      <td>Bangalore International Airport, Bangalore, Ka...</td>\n",
       "      <td>12.992699792116747,77.803841411108593</td>\n",
       "      <td>13.196312912801169,77.708156925688726</td>\n",
       "      <td>2019-06-15 11:40:12</td>\n",
       "      <td>2019-03-23 10:01:24</td>\n",
       "      <td>Kempegowda Int'l Airport Rd, Bengaluru Interna...</td>\n",
       "      <td>Bangalore International Airport, Bangalore, Ka...</td>\n",
       "      <td>2019-03-23 09:16:24</td>\n",
       "      <td>12.359047</td>\n",
       "      <td>76.636158</td>\n",
       "      <td>1</td>\n",
       "      <td>0</td>\n",
       "      <td>2019-03-23 09:02:24</td>\n",
       "      <td>2019-03-23 09:16:24</td>\n",
       "      <td>24.800983</td>\n",
       "      <td>40 FT 3XL Trailer 35MT</td>\n",
       "      <td>Unknown</td>\n",
       "      <td>0.0</td>\n",
       "      <td>LTLEXMUM40</td>\n",
       "      <td>Larsen &amp; toubro limited</td>\n",
       "      <td>999</td>\n",
       "      <td>Unknown</td>\n",
       "      <td>SPRING BEARING / SPRING SEAT RH</td>\n",
       "      <td>Bangalore Rural</td>\n",
       "      <td>Bangalore</td>\n",
       "    </tr>\n",
       "    <tr>\n",
       "      <th>5895</th>\n",
       "      <td>JTECH</td>\n",
       "      <td>WDSBKTP42156</td>\n",
       "      <td>Regular</td>\n",
       "      <td>2019-03-21 10:55:28</td>\n",
       "      <td>KA01AH4855</td>\n",
       "      <td>Mugabala, Bangalore Rural, Karnataka</td>\n",
       "      <td>Bangalore International Airport, Bangalore, Ka...</td>\n",
       "      <td>12.992699792116747,77.803841411108593</td>\n",
       "      <td>13.196312912801169,77.708156925688726</td>\n",
       "      <td>2019-06-15 11:40:12</td>\n",
       "      <td>2019-03-23 10:35:31</td>\n",
       "      <td>Shed No 60, Medahalli Kadugodi Road, Virgonaga...</td>\n",
       "      <td>Bangalore International Airport, Bangalore, Ka...</td>\n",
       "      <td>2019-03-23 09:50:31</td>\n",
       "      <td>13.024894</td>\n",
       "      <td>77.722614</td>\n",
       "      <td>1</td>\n",
       "      <td>0</td>\n",
       "      <td>2019-03-23 09:36:31</td>\n",
       "      <td>2019-03-23 09:50:31</td>\n",
       "      <td>24.800983</td>\n",
       "      <td>40 FT 3XL Trailer 35MT</td>\n",
       "      <td>Unknown</td>\n",
       "      <td>0.0</td>\n",
       "      <td>LTLEXMUM40</td>\n",
       "      <td>Larsen &amp; toubro limited</td>\n",
       "      <td>55556</td>\n",
       "      <td>A S TRANSPORTS</td>\n",
       "      <td>HOSE / CONDENSATION DRAIN</td>\n",
       "      <td>Bangalore Rural</td>\n",
       "      <td>Bangalore</td>\n",
       "    </tr>\n",
       "    <tr>\n",
       "      <th>5891</th>\n",
       "      <td>JTECH</td>\n",
       "      <td>WDSBKTP42153</td>\n",
       "      <td>Regular</td>\n",
       "      <td>2019-03-21 10:55:28</td>\n",
       "      <td>KA21A5090</td>\n",
       "      <td>Mugabala, Bangalore Rural, Karnataka</td>\n",
       "      <td>Bangalore International Airport, Bangalore, Ka...</td>\n",
       "      <td>12.992699792116747,77.803841411108593</td>\n",
       "      <td>13.196312912801169,77.708156925688726</td>\n",
       "      <td>2019-06-15 11:40:12</td>\n",
       "      <td>2019-03-23 10:47:00</td>\n",
       "      <td>Shed No 60, Medahalli Kadugodi Road, Virgonaga...</td>\n",
       "      <td>Bangalore International Airport, Bangalore, Ka...</td>\n",
       "      <td>2019-03-23 10:02:00</td>\n",
       "      <td>13.025081</td>\n",
       "      <td>77.723115</td>\n",
       "      <td>1</td>\n",
       "      <td>0</td>\n",
       "      <td>2019-03-23 09:48:00</td>\n",
       "      <td>2019-03-23 10:02:00</td>\n",
       "      <td>24.800983</td>\n",
       "      <td>40 FT 3XL Trailer 35MT</td>\n",
       "      <td>Unknown</td>\n",
       "      <td>0.0</td>\n",
       "      <td>LTLEXMUM40</td>\n",
       "      <td>Larsen &amp; toubro limited</td>\n",
       "      <td>55556</td>\n",
       "      <td>A S TRANSPORTS</td>\n",
       "      <td>SEALING LIP / HDT</td>\n",
       "      <td>Bangalore Rural</td>\n",
       "      <td>Bangalore</td>\n",
       "    </tr>\n",
       "    <tr>\n",
       "      <th>5888</th>\n",
       "      <td>JTECH</td>\n",
       "      <td>WDSBKTP42441</td>\n",
       "      <td>Regular</td>\n",
       "      <td>2019-03-23 16:04:17</td>\n",
       "      <td>KA01AH5384</td>\n",
       "      <td>Mugabala, Bangalore Rural, Karnataka</td>\n",
       "      <td>Kengeri, Bangalore Rural, Karnataka</td>\n",
       "      <td>12.992699792116747,77.803841411108593</td>\n",
       "      <td>12.73017358940589,77.95620203691567</td>\n",
       "      <td>2019-06-15 11:40:12</td>\n",
       "      <td>2019-03-25 10:48:00</td>\n",
       "      <td>Kempegowda Int'l Airport Rd, Bengaluru Interna...</td>\n",
       "      <td>Kengeri, Bangalore Rural, Karnataka</td>\n",
       "      <td>2019-03-25 10:03:00</td>\n",
       "      <td>12.359047</td>\n",
       "      <td>76.636158</td>\n",
       "      <td>1</td>\n",
       "      <td>0</td>\n",
       "      <td>2019-03-25 09:06:00</td>\n",
       "      <td>2019-03-25 10:03:00</td>\n",
       "      <td>33.421607</td>\n",
       "      <td>40 FT 3XL Trailer 35MT</td>\n",
       "      <td>Unknown</td>\n",
       "      <td>0.0</td>\n",
       "      <td>LTLEXMUM40</td>\n",
       "      <td>Larsen &amp; toubro limited</td>\n",
       "      <td>999</td>\n",
       "      <td>Unknown</td>\n",
       "      <td>SPRING BEARING / SPRING SEAT LH</td>\n",
       "      <td>Bangalore Rural</td>\n",
       "      <td>Bangalore Rural</td>\n",
       "    </tr>\n",
       "  </tbody>\n",
       "</table>\n",
       "</div>"
      ],
      "text/plain": [
       "     GpsProvider     BookingID Market/Regular       BookingID_Date  \\\n",
       "6868       JTECH  WDSBKTP44502         Regular 2019-04-15 15:15:13   \n",
       "5887       JTECH  WDSBKTP42161         Regular 2019-03-21 12:21:39   \n",
       "5895       JTECH  WDSBKTP42156         Regular 2019-03-21 10:55:28   \n",
       "5891       JTECH  WDSBKTP42153         Regular 2019-03-21 10:55:28   \n",
       "5888       JTECH  WDSBKTP42441         Regular 2019-03-23 16:04:17   \n",
       "\n",
       "      vehicle_no                       Origin_Location  \\\n",
       "6868   KA21A5090  Mugabala, Bangalore Rural, Karnataka   \n",
       "5887  KA01AH5384  Mugabala, Bangalore Rural, Karnataka   \n",
       "5895  KA01AH4855  Mugabala, Bangalore Rural, Karnataka   \n",
       "5891   KA21A5090  Mugabala, Bangalore Rural, Karnataka   \n",
       "5888  KA01AH5384  Mugabala, Bangalore Rural, Karnataka   \n",
       "\n",
       "                                   Destination_Location  \\\n",
       "6868      Peenya Small Industries, Bangalore, Karnataka   \n",
       "5887  Bangalore International Airport, Bangalore, Ka...   \n",
       "5895  Bangalore International Airport, Bangalore, Ka...   \n",
       "5891  Bangalore International Airport, Bangalore, Ka...   \n",
       "5888                Kengeri, Bangalore Rural, Karnataka   \n",
       "\n",
       "                                Org_lat_lon  \\\n",
       "6868  16.560192249175344,80.792293091599547   \n",
       "5887  12.992699792116747,77.803841411108593   \n",
       "5895  12.992699792116747,77.803841411108593   \n",
       "5891  12.992699792116747,77.803841411108593   \n",
       "5888  12.992699792116747,77.803841411108593   \n",
       "\n",
       "                                Des_lat_lon      Data_Ping_time  \\\n",
       "6868  13.196312912801169,77.708156925688726 2019-06-14 15:20:12   \n",
       "5887  13.196312912801169,77.708156925688726 2019-06-15 11:40:12   \n",
       "5895  13.196312912801169,77.708156925688726 2019-06-15 11:40:12   \n",
       "5891  13.196312912801169,77.708156925688726 2019-06-15 11:40:12   \n",
       "5888    12.73017358940589,77.95620203691567 2019-06-15 11:40:12   \n",
       "\n",
       "             Planned_ETA                                   Current_Location  \\\n",
       "6868 1899-12-30 04:06:00  Shed No 60, Medahalli Kadugodi Road, Virgonaga...   \n",
       "5887 2019-03-23 10:01:24  Kempegowda Int'l Airport Rd, Bengaluru Interna...   \n",
       "5895 2019-03-23 10:35:31  Shed No 60, Medahalli Kadugodi Road, Virgonaga...   \n",
       "5891 2019-03-23 10:47:00  Shed No 60, Medahalli Kadugodi Road, Virgonaga...   \n",
       "5888 2019-03-25 10:48:00  Kempegowda Int'l Airport Rd, Bengaluru Interna...   \n",
       "\n",
       "                                    DestinationLocation          actual_eta  \\\n",
       "6868      Peenya Small Industries, Bangalore, Karnataka 1899-12-30 03:21:00   \n",
       "5887  Bangalore International Airport, Bangalore, Ka... 2019-03-23 09:16:24   \n",
       "5895  Bangalore International Airport, Bangalore, Ka... 2019-03-23 09:50:31   \n",
       "5891  Bangalore International Airport, Bangalore, Ka... 2019-03-23 10:02:00   \n",
       "5888                Kengeri, Bangalore Rural, Karnataka 2019-03-25 10:03:00   \n",
       "\n",
       "       Curr_lat   Curr_lon  ontime  delay     trip_start_date  \\\n",
       "6868  13.025077  77.723114       0      1 1899-12-30 00:00:00   \n",
       "5887  12.359047  76.636158       1      0 2019-03-23 09:02:24   \n",
       "5895  13.024894  77.722614       1      0 2019-03-23 09:36:31   \n",
       "5891  13.025081  77.723115       1      0 2019-03-23 09:48:00   \n",
       "5888  12.359047  76.636158       1      0 2019-03-25 09:06:00   \n",
       "\n",
       "           trip_end_date  TRANSPORTATION_DISTANCE_IN_KM  \\\n",
       "6868 1899-12-30 03:21:00                      41.000000   \n",
       "5887 2019-03-23 09:16:24                      24.800983   \n",
       "5895 2019-03-23 09:50:31                      24.800983   \n",
       "5891 2019-03-23 10:02:00                      24.800983   \n",
       "5888 2019-03-25 10:03:00                      33.421607   \n",
       "\n",
       "                 vehicleType Driver_Name  Driver_MobileNo  customerID  \\\n",
       "6868  40 FT 3XL Trailer 35MT     Unknown              0.0  LTLEXMUM40   \n",
       "5887  40 FT 3XL Trailer 35MT     Unknown              0.0  LTLEXMUM40   \n",
       "5895  40 FT 3XL Trailer 35MT     Unknown              0.0  LTLEXMUM40   \n",
       "5891  40 FT 3XL Trailer 35MT     Unknown              0.0  LTLEXMUM40   \n",
       "5888  40 FT 3XL Trailer 35MT     Unknown              0.0  LTLEXMUM40   \n",
       "\n",
       "             customerNameCode supplierID supplierNameCode  \\\n",
       "6868  Larsen & toubro limited      55556   A S TRANSPORTS   \n",
       "5887  Larsen & toubro limited        999          Unknown   \n",
       "5895  Larsen & toubro limited      55556   A S TRANSPORTS   \n",
       "5891  Larsen & toubro limited      55556   A S TRANSPORTS   \n",
       "5888  Larsen & toubro limited        999          Unknown   \n",
       "\n",
       "                     Material Shipped       Origin_city         Dest_city  \n",
       "6868                INSRT-VLV ST INTK   Bangalore Rural         Bangalore  \n",
       "5887  SPRING BEARING / SPRING SEAT RH   Bangalore Rural         Bangalore  \n",
       "5895        HOSE / CONDENSATION DRAIN   Bangalore Rural         Bangalore  \n",
       "5891                SEALING LIP / HDT   Bangalore Rural         Bangalore  \n",
       "5888  SPRING BEARING / SPRING SEAT LH   Bangalore Rural   Bangalore Rural  "
      ]
     },
     "execution_count": 41,
     "metadata": {},
     "output_type": "execute_result"
    }
   ],
   "source": [
    "pd.set_option('display.max_columns', None)\n",
    "trip.sort_values('trip_end_date').head(5)"
   ]
  },
  {
   "cell_type": "code",
   "execution_count": 42,
   "id": "70e786b8",
   "metadata": {},
   "outputs": [],
   "source": [
    "#6868 index row have years as 1899 in all datetime features, may be it's a mistake\n",
    "#So removing that single outlier"
   ]
  },
  {
   "cell_type": "code",
   "execution_count": 43,
   "id": "35ee9f51",
   "metadata": {},
   "outputs": [],
   "source": [
    "trip= trip.drop(labels=6868, axis=0)"
   ]
  },
  {
   "cell_type": "markdown",
   "id": "c1b9c21b",
   "metadata": {},
   "source": [
    "All other values are categorical variables(except mobile number which doesnt require outlier detection)"
   ]
  },
  {
   "cell_type": "markdown",
   "id": "507f4c29",
   "metadata": {},
   "source": [
    "#### 2.3)  Encoding"
   ]
  },
  {
   "cell_type": "markdown",
   "id": "b1c5b43f",
   "metadata": {},
   "source": [
    "Already carried out encoding for on time and delay time(during missing value stage).Carrying out encoding for all other variables which are required for model building."
   ]
  },
  {
   "cell_type": "code",
   "execution_count": 70,
   "id": "66d15d05",
   "metadata": {},
   "outputs": [
    {
     "data": {
      "text/plain": [
       "array([0, 1])"
      ]
     },
     "execution_count": 70,
     "metadata": {},
     "output_type": "execute_result"
    }
   ],
   "source": [
    "from sklearn import preprocessing\n",
    "label_encoder = preprocessing.LabelEncoder()\n",
    "trip['Market/Regular ']= label_encoder.fit_transform(trip['Market/Regular '])\n",
    "trip['Market/Regular '].unique()"
   ]
  },
  {
   "cell_type": "code",
   "execution_count": 71,
   "id": "8e4ea7ef",
   "metadata": {},
   "outputs": [],
   "source": [
    "trip['vehicle_no']=trip.vehicle_no.astype(\"category\").cat.codes\n",
    "trip['Current_Location']=trip.Current_Location.astype(\"category\").cat.codes\n",
    "trip['vehicleType']=trip.vehicleType.astype(\"category\").cat.codes\n",
    "trip['Material Shipped']=trip['Material Shipped'].astype(\"category\").cat.codes\n",
    "trip['Driver_Name']=trip['Driver_Name'].astype(\"category\").cat.codes\n",
    "trip['Origin_city']=trip['Origin_city'].astype(\"category\").cat.codes\n",
    "trip['Dest_city']=trip['Dest_city'].astype(\"category\").cat.codes\n",
    "trip['Driver_MobileNo']=trip.vehicle_no.astype(\"category\").cat.codes\n",
    "#trip['ENTD']=trip.ENTD.astype(\"category\").cat.codes\n",
    "trip['supplierNameCode']=trip.supplierNameCode.astype(\"category\").cat.codes\n",
    "trip['customerNameCode']=trip.supplierNameCode.astype(\"category\").cat.codes"
   ]
  },
  {
   "cell_type": "markdown",
   "id": "709b571e",
   "metadata": {},
   "source": [
    "#### 2.4) Feature reduction"
   ]
  },
  {
   "cell_type": "markdown",
   "id": "7284e072",
   "metadata": {},
   "source": [
    "The following feature's are not relevent to the classification model we are building.\n",
    "GpsProvider,BookingID,BookingID_Date,Data_Ping_time.So dropping these features .\n"
   ]
  },
  {
   "cell_type": "code",
   "execution_count": 72,
   "id": "62b621fb",
   "metadata": {},
   "outputs": [],
   "source": [
    "trip=trip.drop(['GpsProvider','BookingID','BookingID_Date','Data_Ping_time'], axis = 1)"
   ]
  },
  {
   "cell_type": "markdown",
   "id": "3a294f4f",
   "metadata": {},
   "source": [
    "Either supplierID or supplierNameCode needs to be maintained,so choosing supplierNameCode(Since EDA needs to be done)\n",
    "Either customerID or customerNameCode needs to be maintained,so choosing customerID(Since EDA needs to be done)"
   ]
  },
  {
   "cell_type": "code",
   "execution_count": 73,
   "id": "93c21d19",
   "metadata": {},
   "outputs": [],
   "source": [
    "trip=trip.drop(['supplierID','customerID'], axis = 1)"
   ]
  },
  {
   "cell_type": "markdown",
   "id": "a9c8b4b4",
   "metadata": {},
   "source": [
    "Dropping those columns which whose features are already incorporated into the model by other features."
   ]
  },
  {
   "cell_type": "code",
   "execution_count": 74,
   "id": "30a8a64a",
   "metadata": {},
   "outputs": [],
   "source": [
    "trip=trip.drop(['Org_lat_lon','Des_lat_lon','actual_eta','Curr_lon','Curr_lat'], axis = 1)"
   ]
  },
  {
   "cell_type": "markdown",
   "id": "d44777bf",
   "metadata": {},
   "source": [
    "Origin city and destination city serves the purpose than orgin and destination location"
   ]
  },
  {
   "cell_type": "code",
   "execution_count": 75,
   "id": "7ceb0b57",
   "metadata": {},
   "outputs": [],
   "source": [
    "trip=trip.drop(['Origin_Location','Destination_Location','DestinationLocation','Driver_MobileNo','Planned_ETA'],axis=1)"
   ]
  },
  {
   "cell_type": "markdown",
   "id": "5b485b43",
   "metadata": {},
   "source": [
    "Dropping \"delay\"column ,since ontime column also represents the information."
   ]
  },
  {
   "cell_type": "code",
   "execution_count": 77,
   "id": "afef7030",
   "metadata": {},
   "outputs": [],
   "source": [
    "trip=trip.drop(['delay'], axis = 1)"
   ]
  },
  {
   "cell_type": "markdown",
   "id": "ebbd72b0",
   "metadata": {},
   "source": [
    "#### 2.5) Standardization/normalization"
   ]
  },
  {
   "cell_type": "raw",
   "id": "372369a5",
   "metadata": {},
   "source": [
    "# Plotting TRANSPORTATION_DISTANCE_IN_KM using kde plot to check whether its normally distributed or not.It's normally distributed with right tail extension, so using standardisation which is much less affected by outliers."
   ]
  },
  {
   "cell_type": "code",
   "execution_count": 78,
   "id": "b9d90bd8",
   "metadata": {},
   "outputs": [
    {
     "data": {
      "image/png": "[encoded data removed]",
      "text/plain": [
       "<Figure size 720x360 with 1 Axes>"
      ]
     },
     "metadata": {
      "needs_background": "light"
     },
     "output_type": "display_data"
    }
   ],
   "source": [
    "import seaborn as sns\n",
    "fig =sns.kdeplot(trip['TRANSPORTATION_DISTANCE_IN_KM'],shade=True, color=\"g\")\n",
    "fig.set_xlabel(\"Distance\",fontsize=10)\n",
    "plt.show()"
   ]
  },
  {
   "cell_type": "code",
   "execution_count": 79,
   "id": "4eb29988",
   "metadata": {},
   "outputs": [],
   "source": [
    "# Doing standardization on the real numerical column 'TRANSPORTATION_DISTANCE_IN_KM',others are encoded/true categorical columns\n",
    "from sklearn import preprocessing\n",
    "standardisation=preprocessing.StandardScaler()\n",
    "trip[['TRANSPORTATION_DISTANCE_IN_KM']]=standardisation.fit_transform(trip[['TRANSPORTATION_DISTANCE_IN_KM']])"
   ]
  },
  {
   "cell_type": "code",
   "execution_count": 80,
   "id": "ae9af789",
   "metadata": {},
   "outputs": [
    {
     "data": {
      "text/plain": [
       "count    5.915000e+03\n",
       "mean    -2.538066e-15\n",
       "std      1.000085e+00\n",
       "min     -7.673568e-01\n",
       "25%     -7.118024e-01\n",
       "50%     -5.386792e-01\n",
       "75%      5.246069e-01\n",
       "max      3.050008e+00\n",
       "Name: TRANSPORTATION_DISTANCE_IN_KM, dtype: float64"
      ]
     },
     "execution_count": 80,
     "metadata": {},
     "output_type": "execute_result"
    }
   ],
   "source": [
    "trip['TRANSPORTATION_DISTANCE_IN_KM'].describe()"
   ]
  },
  {
   "cell_type": "markdown",
   "id": "130f0b32",
   "metadata": {},
   "source": [
    "#### 2.6) Feature Engineering"
   ]
  },
  {
   "cell_type": "markdown",
   "id": "74a92fc0",
   "metadata": {},
   "source": [
    "Calculating the expected no: of travel days."
   ]
  },
  {
   "cell_type": "code",
   "execution_count": 81,
   "id": "b9833259",
   "metadata": {},
   "outputs": [],
   "source": [
    "trip['trip_start_date'] = trip['trip_start_date'].dt.date"
   ]
  },
  {
   "cell_type": "code",
   "execution_count": 82,
   "id": "c018f450",
   "metadata": {},
   "outputs": [],
   "source": [
    "trip['trip_end_date'] = trip['trip_end_date'].dt.date"
   ]
  },
  {
   "cell_type": "code",
   "execution_count": 83,
   "id": "a74dc5ce",
   "metadata": {},
   "outputs": [],
   "source": [
    "trip['ENTD']=trip['trip_end_date']-trip['trip_start_date']\n",
    "trip['ENTD']=trip.ENTD.astype(\"category\").cat.codes"
   ]
  },
  {
   "cell_type": "code",
   "execution_count": 84,
   "id": "7eb178df",
   "metadata": {},
   "outputs": [],
   "source": [
    "# Dropping trip start date and trip end date."
   ]
  },
  {
   "cell_type": "code",
   "execution_count": 85,
   "id": "402c0559",
   "metadata": {},
   "outputs": [],
   "source": [
    "trip=trip.drop(['trip_start_date','trip_end_date'], axis = 1)"
   ]
  },
  {
   "cell_type": "code",
   "execution_count": 87,
   "id": "ff95e41e",
   "metadata": {},
   "outputs": [
    {
     "name": "stdout",
     "output_type": "stream",
     "text": [
      "Market/Regular  ___ 2 ___ int32\n",
      "vehicle_no ___ 1769 ___ int16\n",
      "Current_Location ___ 2567 ___ int16\n",
      "ontime ___ 2 ___ int64\n",
      "TRANSPORTATION_DISTANCE_IN_KM ___ 609 ___ float64\n",
      "vehicleType ___ 42 ___ int8\n",
      "Driver_Name ___ 1356 ___ int16\n",
      "customerNameCode ___ 262 ___ int16\n",
      "supplierNameCode ___ 262 ___ int16\n",
      "Material Shipped ___ 1201 ___ int16\n",
      "Origin_city ___ 78 ___ int8\n",
      "Dest_city ___ 208 ___ int16\n",
      "ENTD ___ 80 ___ int8\n"
     ]
    }
   ],
   "source": [
    "for i in trip.columns:\n",
    "    print(i,'___',trip[i].nunique(),'___',trip[i].dtype)"
   ]
  },
  {
   "cell_type": "markdown",
   "id": "4737805b",
   "metadata": {},
   "source": [
    "Total 13 columns with all int/ float type data(encoded as well as original)"
   ]
  },
  {
   "cell_type": "markdown",
   "id": "d4ea4006",
   "metadata": {},
   "source": [
    "### 3) EDA"
   ]
  },
  {
   "cell_type": "markdown",
   "id": "1038a198",
   "metadata": {},
   "source": [
    "#### 3.1) Univariate Analysis"
   ]
  },
  {
   "cell_type": "markdown",
   "id": "0a124243",
   "metadata": {},
   "source": [
    "Percentage of ontime and delay deliveries"
   ]
  },
  {
   "cell_type": "code",
   "execution_count": 44,
   "id": "44b7d7ea",
   "metadata": {},
   "outputs": [
    {
     "data": {
      "image/png": "[encoded data removed]",
      "text/plain": [
       "<Figure size 360x360 with 1 Axes>"
      ]
     },
     "metadata": {},
     "output_type": "display_data"
    }
   ],
   "source": [
    "plt.rcParams['figure.figsize']=(5,5)\n",
    "plt.pie(trip['ontime'].value_counts(), explode = (0, 0.05), autopct='%1.1f%%')\n",
    "plt.title('Percentage of ontime and delay deliveries')\n",
    "plt.legend(['Delay', 'Ontime'])\n",
    "plt.show()"
   ]
  },
  {
   "cell_type": "markdown",
   "id": "1c7f095d",
   "metadata": {},
   "source": [
    "From the chart,it can be understood that Delayed deliveries(73.1%)are more than Ontime deliveries(26.9%)"
   ]
  },
  {
   "cell_type": "markdown",
   "id": "b2599fff",
   "metadata": {},
   "source": [
    "Driver Preference"
   ]
  },
  {
   "cell_type": "code",
   "execution_count": 50,
   "id": "535d1b7d",
   "metadata": {},
   "outputs": [
    {
     "data": {
      "image/png": "[encoded data removed]",
      "text/plain": [
       "<Figure size 360x360 with 1 Axes>"
      ]
     },
     "metadata": {
      "needs_background": "light"
     },
     "output_type": "display_data"
    }
   ],
   "source": [
    "import seaborn as sns\n",
    "# count plot on single categorical variable\n",
    "sns.countplot(x ='Market/Regular ',data =trip)\n",
    "plt.rcParams['figure.figsize']=(4,4)\n",
    "plt.title('Regular Vs open market drivers')\n",
    "# Show the plot\n",
    "plt.show()"
   ]
  },
  {
   "cell_type": "markdown",
   "id": "29789823",
   "metadata": {},
   "source": [
    "Regular drivers are preferred more than those available in the open labour market."
   ]
  },
  {
   "cell_type": "markdown",
   "id": "87992c79",
   "metadata": {},
   "source": [
    "Material shipment"
   ]
  },
  {
   "cell_type": "code",
   "execution_count": 51,
   "id": "6c40a2ba",
   "metadata": {},
   "outputs": [
    {
     "data": {
      "text/plain": [
       "Text(0.5, 1.0, 'Most of the Material Shipment')"
      ]
     },
     "execution_count": 51,
     "metadata": {},
     "output_type": "execute_result"
    },
    {
     "data": {
      "image/png": "[encoded data removed]",
      "text/plain": [
       "<Figure size 288x288 with 1 Axes>"
      ]
     },
     "metadata": {
      "needs_background": "light"
     },
     "output_type": "display_data"
    }
   ],
   "source": [
    "sns.countplot(trip['Material Shipped'],\n",
    "             order=trip['Material Shipped'].value_counts().head(10).index,\n",
    "             palette='dark')\n",
    "plt.xticks(rotation=90)\n",
    "plt.title('Most of the Material Shipment')"
   ]
  },
  {
   "cell_type": "markdown",
   "id": "e62ba750",
   "metadata": {},
   "source": [
    "Auto parts constitue the most number of material shipped."
   ]
  },
  {
   "cell_type": "markdown",
   "id": "2e7fd964",
   "metadata": {},
   "source": [
    "Vehicle Type"
   ]
  },
  {
   "cell_type": "code",
   "execution_count": 53,
   "id": "8053004b",
   "metadata": {},
   "outputs": [
    {
     "data": {
      "text/plain": [
       "Text(0.5, 1.0, 'Most of the Vehicle type')"
      ]
     },
     "execution_count": 53,
     "metadata": {},
     "output_type": "execute_result"
    },
    {
     "data": {
      "image/png": "[encoded data removed]",
      "text/plain": [
       "<Figure size 288x288 with 1 Axes>"
      ]
     },
     "metadata": {
      "needs_background": "light"
     },
     "output_type": "display_data"
    }
   ],
   "source": [
    "sns.countplot(trip['vehicleType'],\n",
    "             order=trip['vehicleType'].value_counts().head(10).index,\n",
    "             )\n",
    "plt.xticks(rotation=90)\n",
    "plt.title('Most of the Vehicle type')"
   ]
  },
  {
   "cell_type": "markdown",
   "id": "c058a8af",
   "metadata": {},
   "source": [
    "It can be seen that 40FT 3XL Trailer-35 MT is the mostly used truck type."
   ]
  },
  {
   "cell_type": "markdown",
   "id": "3945efaa",
   "metadata": {},
   "source": [
    "Origin cities"
   ]
  },
  {
   "cell_type": "code",
   "execution_count": 60,
   "id": "65d603fd",
   "metadata": {},
   "outputs": [
    {
     "data": {
      "image/png": "[encoded data removed]",
      "text/plain": [
       "<Figure size 720x360 with 2 Axes>"
      ]
     },
     "metadata": {
      "needs_background": "light"
     },
     "output_type": "display_data"
    }
   ],
   "source": [
    "plt.rcParams['figure.figsize']=10,5\n",
    "\n",
    "plt.subplot(121)\n",
    "sns.countplot(trip['Origin_city'],\n",
    "             order=trip['Origin_city'].value_counts().head(3).index,\n",
    "             palette='dark')\n",
    "plt.xticks(rotation=90)\n",
    "plt.title('Top 3 origin location')\n",
    "\n",
    "plt.subplot(122)\n",
    "sns.countplot(trip['Origin_city'],\n",
    "             order=trip['Origin_city'].value_counts().tail(3).index,\n",
    "             palette='plasma')\n",
    "plt.xticks(rotation=90)\n",
    "plt.title('Least 3 the Origin location')\n",
    "plt.show()"
   ]
  },
  {
   "cell_type": "markdown",
   "id": "6ac6c704",
   "metadata": {},
   "source": [
    "#### 3.2) Bivariate Analysis"
   ]
  },
  {
   "cell_type": "markdown",
   "id": "49f052eb",
   "metadata": {},
   "source": [
    "Transportation distance with on time delivery"
   ]
  },
  {
   "cell_type": "code",
   "execution_count": 61,
   "id": "7f6e0ce3",
   "metadata": {},
   "outputs": [
    {
     "data": {
      "text/plain": [
       "<AxesSubplot:xlabel='ontime', ylabel='TRANSPORTATION_DISTANCE_IN_KM'>"
      ]
     },
     "execution_count": 61,
     "metadata": {},
     "output_type": "execute_result"
    },
    {
     "data": {
      "image/png": "[encoded data removed]",
      "text/plain": [
       "<Figure size 720x360 with 1 Axes>"
      ]
     },
     "metadata": {
      "needs_background": "light"
     },
     "output_type": "display_data"
    }
   ],
   "source": [
    "sns.boxplot(x='ontime',y='TRANSPORTATION_DISTANCE_IN_KM',data=trip,palette='rainbow')"
   ]
  },
  {
   "cell_type": "markdown",
   "id": "ae973e11",
   "metadata": {},
   "source": [
    "As expected higher median for ontime deliveries are within short distances."
   ]
  },
  {
   "cell_type": "markdown",
   "id": "c53c9a70",
   "metadata": {},
   "source": [
    "Supliers with more no. of ontime delivery"
   ]
  },
  {
   "cell_type": "code",
   "execution_count": 63,
   "id": "f99784ae",
   "metadata": {},
   "outputs": [
    {
     "data": {
      "text/html": [
       "<style type=\"text/css\">\n",
       "#T_90881_row0_col0 {\n",
       "  background-color: #fc7f00;\n",
       "  color: #f1f1f1;\n",
       "}\n",
       "#T_90881_row1_col0 {\n",
       "  background-color: #ffad00;\n",
       "  color: #000000;\n",
       "}\n",
       "#T_90881_row2_col0 {\n",
       "  background-color: #ffbd00;\n",
       "  color: #000000;\n",
       "}\n",
       "#T_90881_row3_col0 {\n",
       "  background-color: #ffc404;\n",
       "  color: #000000;\n",
       "}\n",
       "#T_90881_row4_col0 {\n",
       "  background-color: #ffd20d;\n",
       "  color: #000000;\n",
       "}\n",
       "#T_90881_row5_col0 {\n",
       "  background-color: #fee91d;\n",
       "  color: #000000;\n",
       "}\n",
       "#T_90881_row6_col0 {\n",
       "  background-color: #faed2d;\n",
       "  color: #000000;\n",
       "}\n",
       "#T_90881_row7_col0 {\n",
       "  background-color: #e5fe75;\n",
       "  color: #000000;\n",
       "}\n",
       "#T_90881_row8_col0, #T_90881_row9_col0 {\n",
       "  background-color: #e4ff7a;\n",
       "  color: #000000;\n",
       "}\n",
       "</style>\n",
       "<table id=\"T_90881_\">\n",
       "  <thead>\n",
       "    <tr>\n",
       "      <th class=\"blank level0\" >&nbsp;</th>\n",
       "      <th class=\"col_heading level0 col0\" >TRANSPORTATION_DISTANCE_IN_KM</th>\n",
       "    </tr>\n",
       "    <tr>\n",
       "      <th class=\"index_name level0\" >supplierNameCode</th>\n",
       "      <th class=\"blank col0\" >&nbsp;</th>\n",
       "    </tr>\n",
       "  </thead>\n",
       "  <tbody>\n",
       "    <tr>\n",
       "      <th id=\"T_90881_level0_row0\" class=\"row_heading level0 row0\" >SR TRANSPORTS</th>\n",
       "      <td id=\"T_90881_row0_col0\" class=\"data row0 col0\" >120</td>\n",
       "    </tr>\n",
       "    <tr>\n",
       "      <th id=\"T_90881_level0_row1\" class=\"row_heading level0 row1\" >SRI PACHIAMMAN TRANSPORT</th>\n",
       "      <td id=\"T_90881_row1_col0\" class=\"data row1 col0\" >93</td>\n",
       "    </tr>\n",
       "    <tr>\n",
       "      <th id=\"T_90881_level0_row2\" class=\"row_heading level0 row2\" >VJ LOGISTICS</th>\n",
       "      <td id=\"T_90881_row2_col0\" class=\"data row2 col0\" >83</td>\n",
       "    </tr>\n",
       "    <tr>\n",
       "      <th id=\"T_90881_level0_row3\" class=\"row_heading level0 row3\" >A S TRANSPORTS</th>\n",
       "      <td id=\"T_90881_row3_col0\" class=\"data row3 col0\" >80</td>\n",
       "    </tr>\n",
       "    <tr>\n",
       "      <th id=\"T_90881_level0_row4\" class=\"row_heading level0 row4\" >NAMAKKAL SRI ANJINAYA TRANSPORT</th>\n",
       "      <td id=\"T_90881_row4_col0\" class=\"data row4 col0\" >74</td>\n",
       "    </tr>\n",
       "    <tr>\n",
       "      <th id=\"T_90881_level0_row5\" class=\"row_heading level0 row5\" >ARVINTH TRANSPORT</th>\n",
       "      <td id=\"T_90881_row5_col0\" class=\"data row5 col0\" >64</td>\n",
       "    </tr>\n",
       "    <tr>\n",
       "      <th id=\"T_90881_level0_row6\" class=\"row_heading level0 row6\" >EKTA TRANSPORT COMPANY</th>\n",
       "      <td id=\"T_90881_row6_col0\" class=\"data row6 col0\" >61</td>\n",
       "    </tr>\n",
       "    <tr>\n",
       "      <th id=\"T_90881_level0_row7\" class=\"row_heading level0 row7\" >KRC Logistics</th>\n",
       "      <td id=\"T_90881_row7_col0\" class=\"data row7 col0\" >47</td>\n",
       "    </tr>\n",
       "    <tr>\n",
       "      <th id=\"T_90881_level0_row8\" class=\"row_heading level0 row8\" >ESWAR TRANSPORT</th>\n",
       "      <td id=\"T_90881_row8_col0\" class=\"data row8 col0\" >46</td>\n",
       "    </tr>\n",
       "    <tr>\n",
       "      <th id=\"T_90881_level0_row9\" class=\"row_heading level0 row9\" >Sree Sakthi Transport</th>\n",
       "      <td id=\"T_90881_row9_col0\" class=\"data row9 col0\" >46</td>\n",
       "    </tr>\n",
       "  </tbody>\n",
       "</table>\n"
      ],
      "text/plain": [
       "<pandas.io.formats.style.Styler at 0x21bf77e1e20>"
      ]
     },
     "execution_count": 63,
     "metadata": {},
     "output_type": "execute_result"
    }
   ],
   "source": [
    "trip[trip['ontime']==1][['supplierNameCode', 'TRANSPORTATION_DISTANCE_IN_KM']].groupby(['supplierNameCode']).agg('count').sort_values('TRANSPORTATION_DISTANCE_IN_KM', \n",
    "                                                                                                                   ascending=False).head(10).style.background_gradient(cmap='Wistia')"
   ]
  },
  {
   "cell_type": "markdown",
   "id": "3f387230",
   "metadata": {},
   "source": [
    "SR transpports leads on time deliveries with transportation kilometre of 120"
   ]
  },
  {
   "cell_type": "markdown",
   "id": "8cf1249c",
   "metadata": {},
   "source": [
    "Vehicle with most successful ontime delivery"
   ]
  },
  {
   "cell_type": "code",
   "execution_count": 65,
   "id": "30cba94b",
   "metadata": {},
   "outputs": [
    {
     "data": {
      "image/png": "[encoded data removed]",
      "text/plain": [
       "<Figure size 720x360 with 1 Axes>"
      ]
     },
     "metadata": {
      "needs_background": "light"
     },
     "output_type": "display_data"
    }
   ],
   "source": [
    "plt.rcParams['figure.figsize']=10,5\n",
    "sns.countplot(trip[trip['ontime']==1]['vehicleType'],\n",
    "             order=trip[trip['ontime']==1]['vehicleType'].value_counts().head(10).index,\n",
    "             palette='viridis')\n",
    "plt.xticks(rotation=90)\n",
    "plt.title('Vehicle with most successful ontime delivery')\n",
    "plt.show()"
   ]
  },
  {
   "cell_type": "markdown",
   "id": "7e75eb02",
   "metadata": {},
   "source": [
    "32 FT-Multi-Axle leads in the known vehicle type category  interms of successful ontime delivery"
   ]
  },
  {
   "cell_type": "code",
   "execution_count": 69,
   "id": "e8d2227c",
   "metadata": {},
   "outputs": [
    {
     "data": {
      "image/png": "[encoded data removed]",
      "text/plain": [
       "<Figure size 432x432 with 2 Axes>"
      ]
     },
     "metadata": {
      "needs_background": "light"
     },
     "output_type": "display_data"
    }
   ],
   "source": [
    "# finding the correlation between variables\n",
    "import matplotlib.pyplot as plt\n",
    "import seaborn as sns\n",
    "#correlation values are stored in data frame corr_matrix\n",
    "corr_matrix=trip[['ontime','TRANSPORTATION_DISTANCE_IN_KM']].corr()\n",
    "#corr_matrix=trip.corr()    # Pearson standard correlation coefficient as default.    \n",
    "plt.subplots(figsize=(6,6))\n",
    "#using heat map for better visualisation of correlation values \n",
    "sns.heatmap(corr_matrix,vmin=-0.16,vmax=0.11,linewidths=0.2,annot=True)      \n",
    "plt.show()"
   ]
  },
  {
   "cell_type": "markdown",
   "id": "073626aa",
   "metadata": {},
   "source": [
    "Correlation coefficient are not so strong.\n",
    "\n",
    "But we can see that ontime delivery is negatively related to ontime status by a correlation factor of -0.071"
   ]
  },
  {
   "cell_type": "markdown",
   "id": "8c8f0023",
   "metadata": {},
   "source": [
    "Material shipped and Ontime status "
   ]
  },
  {
   "cell_type": "code",
   "execution_count": 67,
   "id": "7ac3aba9",
   "metadata": {},
   "outputs": [
    {
     "data": {
      "image/png": "[encoded data removed]",
      "text/plain": [
       "<Figure size 720x360 with 1 Axes>"
      ]
     },
     "metadata": {
      "needs_background": "light"
     },
     "output_type": "display_data"
    }
   ],
   "source": [
    "plt.rcParams['figure.figsize']=10,5\n",
    "sns.countplot(trip[trip['ontime']==1]['Material Shipped'],\n",
    "             order=trip[trip['ontime']==1] ['Material Shipped'].value_counts().head(10).index,\n",
    "             palette='viridis')\n",
    "plt.xticks(rotation=90)\n",
    "plt.title('Material shipped and Ontime status')\n",
    "plt.show()"
   ]
  },
  {
   "cell_type": "markdown",
   "id": "fc99c953",
   "metadata": {},
   "source": [
    "Auto parts leads the list followed by Empty Trays"
   ]
  },
  {
   "cell_type": "markdown",
   "id": "71d2d772",
   "metadata": {},
   "source": [
    "### 4) Modelling"
   ]
  },
  {
   "cell_type": "code",
   "execution_count": 89,
   "id": "d8a6a248",
   "metadata": {},
   "outputs": [],
   "source": [
    "# spliiting the dataset into features and target\n",
    "#taking 'passed' as target(y) and all other as X\n",
    "X=trip.drop(['ontime'],axis=1)\n",
    "y=trip['ontime']"
   ]
  },
  {
   "cell_type": "code",
   "execution_count": 90,
   "id": "2f9c8052",
   "metadata": {},
   "outputs": [
    {
     "data": {
      "text/plain": [
       "Index(['Market/Regular ', 'vehicle_no', 'Current_Location',\n",
       "       'TRANSPORTATION_DISTANCE_IN_KM', 'vehicleType', 'Driver_Name',\n",
       "       'customerNameCode', 'supplierNameCode', 'Material Shipped',\n",
       "       'Origin_city', 'Dest_city', 'ENTD'],\n",
       "      dtype='object')"
      ]
     },
     "execution_count": 90,
     "metadata": {},
     "output_type": "execute_result"
    }
   ],
   "source": [
    "X.columns"
   ]
  },
  {
   "cell_type": "code",
   "execution_count": 94,
   "id": "9e7cd049",
   "metadata": {},
   "outputs": [],
   "source": [
    "# splitting into test and training set\n",
    "from sklearn.model_selection import train_test_split\n",
    "X_train,X_test,y_train,y_test=train_test_split(X,y,random_state=42,test_size=0.20)"
   ]
  },
  {
   "cell_type": "code",
   "execution_count": 95,
   "id": "4df56f3d",
   "metadata": {},
   "outputs": [
    {
     "data": {
      "text/plain": [
       "(4732, 12)"
      ]
     },
     "execution_count": 95,
     "metadata": {},
     "output_type": "execute_result"
    }
   ],
   "source": [
    "# checking how many data points are there in the training set\n",
    "X_train.shape"
   ]
  },
  {
   "cell_type": "code",
   "execution_count": 96,
   "id": "5bb6664a",
   "metadata": {},
   "outputs": [
    {
     "data": {
      "text/plain": [
       "(1183, 12)"
      ]
     },
     "execution_count": 96,
     "metadata": {},
     "output_type": "execute_result"
    }
   ],
   "source": [
    "# checking how many data points are there in the training set\n",
    "X_test.shape"
   ]
  },
  {
   "cell_type": "markdown",
   "id": "f8e68004",
   "metadata": {},
   "source": [
    "4732 datapoints are given for training and 1183 data points for testing"
   ]
  },
  {
   "cell_type": "markdown",
   "id": "75c2c596",
   "metadata": {},
   "source": [
    "#### 4.1) Logistic regression"
   ]
  },
  {
   "cell_type": "code",
   "execution_count": 105,
   "id": "417e270d",
   "metadata": {},
   "outputs": [
    {
     "name": "stdout",
     "output_type": "stream",
     "text": [
      "Accuracy is: 0.85\n",
      "f1 score is: 0.693\n",
      "{'C': 1.0, 'class_weight': None, 'dual': False, 'fit_intercept': True, 'intercept_scaling': 1, 'l1_ratio': None, 'max_iter': 10000, 'multi_class': 'auto', 'n_jobs': None, 'penalty': 'l2', 'random_state': 42, 'solver': 'lbfgs', 'tol': 0.0001, 'verbose': 0, 'warm_start': False}\n"
     ]
    }
   ],
   "source": [
    "from sklearn.linear_model import LogisticRegression\n",
    "from sklearn.metrics import accuracy_score,f1_score\n",
    "logit_model=LogisticRegression(random_state=42,max_iter=10000)\n",
    "logit_model.fit(X_train,y_train)\n",
    "y_pred=logit_model.predict(X_test)\n",
    "print(\"Accuracy is:\",round(accuracy_score(y_test,y_pred),3))\n",
    "print(\"f1 score is:\",round(f1_score(y_test,y_pred),3))\n",
    "print(logit_model.get_params())"
   ]
  },
  {
   "cell_type": "markdown",
   "id": "c9a22aa4",
   "metadata": {},
   "source": [
    "#### 4.2) SVM Classifier"
   ]
  },
  {
   "cell_type": "code",
   "execution_count": 98,
   "id": "70ff3695",
   "metadata": {},
   "outputs": [
    {
     "name": "stdout",
     "output_type": "stream",
     "text": [
      "Accuracy is: 0.807\n",
      "f1 score is: 0.517\n",
      "{'C': 1.0, 'break_ties': False, 'cache_size': 200, 'class_weight': None, 'coef0': 0.0, 'decision_function_shape': 'ovr', 'degree': 3, 'gamma': 'scale', 'kernel': 'rbf', 'max_iter': -1, 'probability': False, 'random_state': 42, 'shrinking': True, 'tol': 0.001, 'verbose': False}\n"
     ]
    }
   ],
   "source": [
    "from sklearn.svm import SVC\n",
    "svm_model=SVC(random_state=42)\n",
    "svm_model.fit(X_train,y_train)\n",
    "y_pred=svm_model.predict(X_test)\n",
    "print(\"Accuracy is:\",round(accuracy_score(y_test,y_pred),3))\n",
    "print(\"f1 score is:\",round(f1_score(y_test,y_pred),3))\n",
    "print(svm_model.get_params())"
   ]
  },
  {
   "cell_type": "markdown",
   "id": "2bcac88e",
   "metadata": {},
   "source": [
    "#### 4.3) KNN Classifier"
   ]
  },
  {
   "cell_type": "code",
   "execution_count": 99,
   "id": "bdf8c4bd",
   "metadata": {},
   "outputs": [
    {
     "name": "stdout",
     "output_type": "stream",
     "text": [
      "Accuracy is: 0.793\n",
      "f1 score is: 0.571\n",
      "{'algorithm': 'auto', 'leaf_size': 30, 'metric': 'minkowski', 'metric_params': None, 'n_jobs': None, 'n_neighbors': 5, 'p': 2, 'weights': 'uniform'}\n"
     ]
    }
   ],
   "source": [
    "from sklearn.neighbors import KNeighborsClassifier\n",
    "knn_model=KNeighborsClassifier()\n",
    "knn_model.fit(X_train,y_train)\n",
    "y_pred=knn_model.predict(X_test)\n",
    "print(\"Accuracy is:\",round(accuracy_score(y_test,y_pred),3))\n",
    "print(\"f1 score is:\",round(f1_score(y_test,y_pred),3))\n",
    "print(knn_model.get_params())"
   ]
  },
  {
   "cell_type": "markdown",
   "id": "0de860a6",
   "metadata": {},
   "source": [
    "#### 4.4) Decision tree Classifier"
   ]
  },
  {
   "cell_type": "code",
   "execution_count": 100,
   "id": "d3266684",
   "metadata": {},
   "outputs": [
    {
     "name": "stdout",
     "output_type": "stream",
     "text": [
      "Accuracy is: 0.896\n",
      "f1 score is: 0.805\n",
      "{'ccp_alpha': 0.0, 'class_weight': None, 'criterion': 'gini', 'max_depth': None, 'max_features': None, 'max_leaf_nodes': None, 'min_impurity_decrease': 0.0, 'min_samples_leaf': 1, 'min_samples_split': 2, 'min_weight_fraction_leaf': 0.0, 'random_state': 42, 'splitter': 'best'}\n"
     ]
    }
   ],
   "source": [
    "from sklearn.tree import DecisionTreeClassifier\n",
    "decision_tree=DecisionTreeClassifier(random_state=42)\n",
    "decision_tree.fit(X_train,y_train)\n",
    "y_pred=decision_tree.predict(X_test)\n",
    "print(\"Accuracy is:\",round(accuracy_score(y_test,y_pred),3))\n",
    "print(\"f1 score is:\",round(f1_score(y_test,y_pred),3))\n",
    "print(decision_tree.get_params())"
   ]
  },
  {
   "cell_type": "markdown",
   "id": "d42d3fbe",
   "metadata": {},
   "source": [
    "#### 4.5) Random forest Classifier"
   ]
  },
  {
   "cell_type": "code",
   "execution_count": 101,
   "id": "081d2963",
   "metadata": {},
   "outputs": [
    {
     "name": "stdout",
     "output_type": "stream",
     "text": [
      "Accuracy is: 0.904\n",
      "f1 score is: 0.82\n",
      "{'bootstrap': True, 'ccp_alpha': 0.0, 'class_weight': None, 'criterion': 'gini', 'max_depth': None, 'max_features': 'auto', 'max_leaf_nodes': None, 'max_samples': None, 'min_impurity_decrease': 0.0, 'min_samples_leaf': 1, 'min_samples_split': 2, 'min_weight_fraction_leaf': 0.0, 'n_estimators': 100, 'n_jobs': None, 'oob_score': False, 'random_state': 42, 'verbose': 0, 'warm_start': False}\n"
     ]
    }
   ],
   "source": [
    "from sklearn.ensemble import RandomForestClassifier\n",
    "random_forest=RandomForestClassifier(random_state=42)\n",
    "random_forest.fit(X_train,y_train)\n",
    "y_pred=random_forest.predict(X_test)\n",
    "print(\"Accuracy is:\",round(accuracy_score(y_test,y_pred),3))\n",
    "print(\"f1 score is:\",round(f1_score(y_test,y_pred),2))\n",
    "print(random_forest.get_params())"
   ]
  },
  {
   "cell_type": "markdown",
   "id": "da2b02a0",
   "metadata": {},
   "source": [
    "| Model | Accuracy | F1_score\n",
    "| --- | --- | --- |\n",
    "| Logistic regression | 0.85 | 0.693 \n",
    "| SVM | 0.807 | 0.517 \n",
    "| KNN | 0.793 | 0.571  \n",
    "| Decision tree |0.896 | 0.805 \n",
    "| Random Forest | 0.904 | 0.82"
   ]
  },
  {
   "cell_type": "markdown",
   "id": "80b62ff9",
   "metadata": {},
   "source": [
    "From this we can see that tree based models are giving better result for our data.One thing also need to be remembered that the data set is predominantly categorical in nature.Before fine tuning Random Forest Classifier is giving the best result."
   ]
  },
  {
   "cell_type": "markdown",
   "id": "58127b08",
   "metadata": {},
   "source": [
    "### 5)Hypertuning of  parameters"
   ]
  },
  {
   "cell_type": "markdown",
   "id": "514428ac",
   "metadata": {},
   "source": [
    "#### 5.1) Logistic regression"
   ]
  },
  {
   "cell_type": "code",
   "execution_count": 108,
   "id": "87bf0e33",
   "metadata": {},
   "outputs": [
    {
     "name": "stdout",
     "output_type": "stream",
     "text": [
      "Fitting 5 folds for each of 30 candidates, totalling 150 fits\n",
      "LogisticRegression(class_weight='balanced', max_iter=10000, random_state=42)\n"
     ]
    }
   ],
   "source": [
    "param_grid_lr = {\n",
    "    'max_iter': [20, 50, 100, 200, 500, 10000],                      \n",
    "    'solver': ['newton-cg', 'lbfgs', 'liblinear', 'sag', 'saga'],   \n",
    "    'class_weight': ['balanced']                                    \n",
    "}\n",
    "from sklearn.model_selection import GridSearchCV\n",
    "logModel_grid = GridSearchCV(estimator=LogisticRegression(random_state=42), param_grid=param_grid_lr, verbose=1, n_jobs=-1)\n",
    "logModel_grid.fit(X_train, y_train)\n",
    "print(logModel_grid.best_estimator_)"
   ]
  },
  {
   "cell_type": "code",
   "execution_count": 109,
   "id": "1c9a0a85",
   "metadata": {},
   "outputs": [],
   "source": [
    "y_pred = logModel_grid.predict(X_test)"
   ]
  },
  {
   "cell_type": "code",
   "execution_count": 110,
   "id": "00123ad2",
   "metadata": {},
   "outputs": [
    {
     "name": "stdout",
     "output_type": "stream",
     "text": [
      "Accuracy is: 0.801\n",
      "f1 score is: 0.7\n"
     ]
    }
   ],
   "source": [
    "print(\"Accuracy is:\",round(accuracy_score(y_test,y_pred),3))\n",
    "print(\"f1 score is:\",round(f1_score(y_test,y_pred),2))"
   ]
  },
  {
   "cell_type": "markdown",
   "id": "756e6833",
   "metadata": {},
   "source": [
    "#### 5.2) SVM Classifier"
   ]
  },
  {
   "cell_type": "code",
   "execution_count": 111,
   "id": "4f2b8c1b",
   "metadata": {},
   "outputs": [
    {
     "name": "stdout",
     "output_type": "stream",
     "text": [
      "{'C': 100, 'kernel': 'rbf'}\n"
     ]
    }
   ],
   "source": [
    "param_grid = {'C': [1, 10, 100],\n",
    "              'kernel': ['rbf']}\n",
    "grid = GridSearchCV(SVC(), param_grid, refit = True, verbose = False)\n",
    "grid.fit(X_train, y_train)\n",
    "print(grid.best_params_)"
   ]
  },
  {
   "cell_type": "code",
   "execution_count": 112,
   "id": "ca514d97",
   "metadata": {},
   "outputs": [
    {
     "name": "stdout",
     "output_type": "stream",
     "text": [
      "SVC(C=100)\n"
     ]
    }
   ],
   "source": [
    "print(grid.best_estimator_)"
   ]
  },
  {
   "cell_type": "code",
   "execution_count": 113,
   "id": "6e1b0a2e",
   "metadata": {},
   "outputs": [],
   "source": [
    "y_pred = grid.predict(X_test)"
   ]
  },
  {
   "cell_type": "code",
   "execution_count": 114,
   "id": "9ad4a11b",
   "metadata": {},
   "outputs": [
    {
     "name": "stdout",
     "output_type": "stream",
     "text": [
      "Accuracy is: 0.845\n",
      "f1 score is: 0.64\n"
     ]
    }
   ],
   "source": [
    "print(\"Accuracy is:\",round(accuracy_score(y_test,y_pred),3))\n",
    "print(\"f1 score is:\",round(f1_score(y_test,y_pred),2))"
   ]
  },
  {
   "cell_type": "markdown",
   "id": "40419047",
   "metadata": {},
   "source": [
    "#### 5.3) KNN Classifier"
   ]
  },
  {
   "cell_type": "code",
   "execution_count": 116,
   "id": "9021c9fb",
   "metadata": {},
   "outputs": [
    {
     "name": "stdout",
     "output_type": "stream",
     "text": [
      "{'n_neighbors': 17, 'weights': 'distance'}\n"
     ]
    }
   ],
   "source": [
    "k_range = list(range(1, 31))\n",
    "weight_options = ['uniform', 'distance']\n",
    "param_grid = dict(n_neighbors=k_range, weights=weight_options)\n",
    "grid = GridSearchCV(KNeighborsClassifier(),param_grid,cv=10,scoring='accuracy')\n",
    "grid.fit(X_train, y_train)\n",
    "print(grid.best_params_)"
   ]
  },
  {
   "cell_type": "code",
   "execution_count": 117,
   "id": "c618cc29",
   "metadata": {},
   "outputs": [
    {
     "name": "stdout",
     "output_type": "stream",
     "text": [
      "Accuracy is: 0.8\n",
      "f1 score is: 0.57\n"
     ]
    }
   ],
   "source": [
    "y_pred = grid.predict(X_test)\n",
    "print(\"Accuracy is:\",round(accuracy_score(y_test,y_pred),3))\n",
    "print(\"f1 score is:\",round(f1_score(y_test,y_pred),2))"
   ]
  },
  {
   "cell_type": "markdown",
   "id": "b011947c",
   "metadata": {},
   "source": [
    "#### 5.4) Decision Tree Classifier"
   ]
  },
  {
   "cell_type": "code",
   "execution_count": 118,
   "id": "03f21e78",
   "metadata": {},
   "outputs": [
    {
     "name": "stdout",
     "output_type": "stream",
     "text": [
      "Fitting 5 folds for each of 294 candidates, totalling 1470 fits\n",
      "{'max_leaf_nodes': 84, 'min_samples_split': 4}\n"
     ]
    }
   ],
   "source": [
    "params = {'max_leaf_nodes': list(range(2, 100)), 'min_samples_split': [2, 3, 4]}\n",
    "grid_search_cv = GridSearchCV(DecisionTreeClassifier(random_state=42), params, verbose=1)\n",
    "grid_search_cv.fit(X_train, y_train)\n",
    "print(grid_search_cv.best_params_)"
   ]
  },
  {
   "cell_type": "code",
   "execution_count": 119,
   "id": "a7181798",
   "metadata": {},
   "outputs": [
    {
     "name": "stdout",
     "output_type": "stream",
     "text": [
      "Accuracy is: 0.901\n",
      "f1 score is: 0.81\n"
     ]
    }
   ],
   "source": [
    "y_pred = grid_search_cv.predict(X_test)\n",
    "print(\"Accuracy is:\",round(accuracy_score(y_test,y_pred),3))\n",
    "print(\"f1 score is:\",round(f1_score(y_test,y_pred),2))"
   ]
  },
  {
   "cell_type": "markdown",
   "id": "cfa5837c",
   "metadata": {},
   "source": [
    "#### 5.5) Random Forest Classifier"
   ]
  },
  {
   "cell_type": "code",
   "execution_count": 120,
   "id": "8d9c1f73",
   "metadata": {},
   "outputs": [
    {
     "name": "stdout",
     "output_type": "stream",
     "text": [
      "{'max_features': 'sqrt', 'n_estimators': 200}\n"
     ]
    }
   ],
   "source": [
    "rfc = RandomForestClassifier(n_jobs=-1,max_features= 'sqrt', oob_score = True) \n",
    "param_grid = { \n",
    "    'n_estimators': [200, 700],\n",
    "    'max_features': ['auto', 'sqrt', 'log2']\n",
    "}\n",
    "\n",
    "CV_rfc = GridSearchCV(estimator=rfc, param_grid=param_grid, cv= 5)\n",
    "CV_rfc.fit(X, y)\n",
    "print(CV_rfc.best_params_)"
   ]
  },
  {
   "cell_type": "code",
   "execution_count": 121,
   "id": "48b706c4",
   "metadata": {},
   "outputs": [
    {
     "name": "stdout",
     "output_type": "stream",
     "text": [
      "Accuracy is: 0.998\n",
      "f1 score is: 1.0\n"
     ]
    }
   ],
   "source": [
    "y_pred = CV_rfc.predict(X_test)\n",
    "print(\"Accuracy is:\",round(accuracy_score(y_test,y_pred),3))\n",
    "print(\"f1 score is:\",round(f1_score(y_test,y_pred),2))"
   ]
  },
  {
   "cell_type": "markdown",
   "id": "71cd89d9",
   "metadata": {},
   "source": [
    "#### Performance after hyper tuning"
   ]
  },
  {
   "cell_type": "markdown",
   "id": "d213289a",
   "metadata": {},
   "source": [
    "| Model | Accuracy | F1_score\n",
    "| --- | --- | --- |\n",
    "| Logistic regression | 0.801 | 0.7 \n",
    "| SVM | 0.845 | 0.64 \n",
    "| KNN | 0.8 | 0.57 \n",
    "| Decision tree |0.901 | 0.81 \n",
    "| Random Forest | 0.998 | 1.0"
   ]
  },
  {
   "cell_type": "markdown",
   "id": "c25a9c4c",
   "metadata": {},
   "source": [
    "From this, its possible to conclude that Random Forest Classfier improved to the maximum after finetuning and its the best classifier for the dataset."
   ]
  }
 ],
 "metadata": {
  "kernelspec": {
   "display_name": "Python 3 (ipykernel)",
   "language": "python",
   "name": "python3"
  },
  "language_info": {
   "codemirror_mode": {
    "name": "ipython",
    "version": 3
   },
   "file_extension": ".py",
   "mimetype": "text/x-python",
   "name": "python",
   "nbconvert_exporter": "python",
   "pygments_lexer": "ipython3",
   "version": "3.9.7"
  }
 },
 "nbformat": 4,
 "nbformat_minor": 5
}
